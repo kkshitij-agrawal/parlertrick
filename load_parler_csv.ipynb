{
  "nbformat": 4,
  "nbformat_minor": 0,
  "metadata": {
    "colab": {
      "name": "load_parler_csv.ipynb",
      "provenance": [],
      "authorship_tag": "ABX9TyM2sRwqCSn2+sXLS9k3Fb0t",
      "include_colab_link": true
    },
    "kernelspec": {
      "name": "python3",
      "display_name": "Python 3"
    }
  },
  "cells": [
    {
      "cell_type": "markdown",
      "metadata": {
        "id": "view-in-github",
        "colab_type": "text"
      },
      "source": [
        "<a href=\"https://colab.research.google.com/github/sbooeshaghi/parlertrick/blob/main/load_parler_csv.ipynb\" target=\"_parent\"><img src=\"https://colab.research.google.com/assets/colab-badge.svg\" alt=\"Open In Colab\"/></a>"
      ]
    },
    {
      "cell_type": "code",
      "metadata": {
        "colab": {
          "base_uri": "https://localhost:8080/"
        },
        "id": "w4cZEmNV-CBI",
        "outputId": "f260cdf5-1ae8-4d66-f14e-e1155310fe26"
      },
      "source": [
        "!git clone https://github.com/sbooeshaghi/parlertrick.git"
      ],
      "execution_count": 1,
      "outputs": [
        {
          "output_type": "stream",
          "text": [
            "Cloning into 'parlertrick'...\n",
            "remote: Enumerating objects: 16, done.\u001b[K\n",
            "remote: Counting objects: 100% (16/16), done.\u001b[K\n",
            "remote: Compressing objects: 100% (13/13), done.\u001b[K\n",
            "remote: Total 16 (delta 1), reused 6 (delta 0), pack-reused 0\u001b[K\n",
            "Unpacking objects: 100% (16/16), done.\n"
          ],
          "name": "stdout"
        }
      ]
    },
    {
      "cell_type": "code",
      "metadata": {
        "id": "7qv6cGk--LG8"
      },
      "source": [
        "!gunzip parlertrick/data/all_posts.csv.gz"
      ],
      "execution_count": 2,
      "outputs": []
    },
    {
      "cell_type": "code",
      "metadata": {
        "id": "Gh2d8qYh-I6p"
      },
      "source": [
        "import pandas as pd"
      ],
      "execution_count": 3,
      "outputs": []
    },
    {
      "cell_type": "code",
      "metadata": {
        "id": "MYtho0X--N6s"
      },
      "source": [
        "df = pd.read_csv('parlertrick/data/all_posts.csv')"
      ],
      "execution_count": 4,
      "outputs": []
    },
    {
      "cell_type": "code",
      "metadata": {
        "colab": {
          "base_uri": "https://localhost:8080/",
          "height": 407
        },
        "id": "xZYh978H-RcY",
        "outputId": "a24e856e-63bb-417b-a44b-bcd2373ed889"
      },
      "source": [
        "df"
      ],
      "execution_count": 5,
      "outputs": [
        {
          "output_type": "execute_result",
          "data": {
            "text/html": [
              "<div>\n",
              "<style scoped>\n",
              "    .dataframe tbody tr th:only-of-type {\n",
              "        vertical-align: middle;\n",
              "    }\n",
              "\n",
              "    .dataframe tbody tr th {\n",
              "        vertical-align: top;\n",
              "    }\n",
              "\n",
              "    .dataframe thead th {\n",
              "        text-align: right;\n",
              "    }\n",
              "</style>\n",
              "<table border=\"1\" class=\"dataframe\">\n",
              "  <thead>\n",
              "    <tr style=\"text-align: right;\">\n",
              "      <th></th>\n",
              "      <th>author_name</th>\n",
              "      <th>author_username</th>\n",
              "      <th>author_profile_photo</th>\n",
              "      <th>post_text</th>\n",
              "      <th>post_image</th>\n",
              "      <th>post_timestamp</th>\n",
              "      <th>post_impressions</th>\n",
              "    </tr>\n",
              "  </thead>\n",
              "  <tbody>\n",
              "    <tr>\n",
              "      <th>0</th>\n",
              "      <td>Andy Ngo</td>\n",
              "      <td>@AndyNgo</td>\n",
              "      <td>https://images.parler.com/777e039d6a5341388549...</td>\n",
              "      <td>Philadelphia Police charged 7 in relation to a...</td>\n",
              "      <td>https://api.parler.com/l/GJCyQ</td>\n",
              "      <td>5 days ago</td>\n",
              "      <td>132117.0</td>\n",
              "    </tr>\n",
              "    <tr>\n",
              "      <th>1</th>\n",
              "      <td>Bill Kays</td>\n",
              "      <td>@rebootbill</td>\n",
              "      <td>https://images.parler.com/706f1c9d8b454b5f8108...</td>\n",
              "      <td>NaN</td>\n",
              "      <td>NaN</td>\n",
              "      <td>4 days ago</td>\n",
              "      <td>13.0</td>\n",
              "    </tr>\n",
              "    <tr>\n",
              "      <th>2</th>\n",
              "      <td>Flint Bedrock</td>\n",
              "      <td>@flintbedrock</td>\n",
              "      <td>https://images.parler.com/1f45e69f8ed145f9b7b0...</td>\n",
              "      <td>Patriots in DC are ready for tomorrow.</td>\n",
              "      <td>NaN</td>\n",
              "      <td>5 days ago</td>\n",
              "      <td>248971.0</td>\n",
              "    </tr>\n",
              "    <tr>\n",
              "      <th>3</th>\n",
              "      <td>Name Hidden</td>\n",
              "      <td>@Private User</td>\n",
              "      <td>../../company-media.parler.com/par-default-pro...</td>\n",
              "      <td>Let’s follow each other!</td>\n",
              "      <td>https://api.parler.com/l/jB7Lz</td>\n",
              "      <td>5 days ago</td>\n",
              "      <td>9829.0</td>\n",
              "    </tr>\n",
              "    <tr>\n",
              "      <th>4</th>\n",
              "      <td>Name Hidden</td>\n",
              "      <td>@Private User</td>\n",
              "      <td>../../company-media.parler.com/par-default-pro...</td>\n",
              "      <td>NaN</td>\n",
              "      <td>../../api.parler.com/l/6Ac5M.html</td>\n",
              "      <td>5 days ago</td>\n",
              "      <td>15689.0</td>\n",
              "    </tr>\n",
              "    <tr>\n",
              "      <th>...</th>\n",
              "      <td>...</td>\n",
              "      <td>...</td>\n",
              "      <td>...</td>\n",
              "      <td>...</td>\n",
              "      <td>...</td>\n",
              "      <td>...</td>\n",
              "      <td>...</td>\n",
              "    </tr>\n",
              "    <tr>\n",
              "      <th>336475</th>\n",
              "      <td>Name Hidden</td>\n",
              "      <td>@Private User</td>\n",
              "      <td>../../company-media.parler.com/par-default-pro...</td>\n",
              "      <td>She claims a #blm member hit her in the face a...</td>\n",
              "      <td>NaN</td>\n",
              "      <td>5 days ago</td>\n",
              "      <td>8694.0</td>\n",
              "    </tr>\n",
              "    <tr>\n",
              "      <th>336476</th>\n",
              "      <td>Vmilner</td>\n",
              "      <td>@Vmilner</td>\n",
              "      <td>../../images.parler.com/3f88420057b14dc3883b86...</td>\n",
              "      <td>NaN</td>\n",
              "      <td>NaN</td>\n",
              "      <td>5 days ago</td>\n",
              "      <td>44.0</td>\n",
              "    </tr>\n",
              "    <tr>\n",
              "      <th>336477</th>\n",
              "      <td>Diamond And Silk</td>\n",
              "      <td>@DiamondAndSilk</td>\n",
              "      <td>https://images.parler.com/66c3bf6a396b40509767...</td>\n",
              "      <td>BIG NEWS IN PENNSYLVANIA!</td>\n",
              "      <td>https://api.parler.com/l/USgUy</td>\n",
              "      <td>5 days ago</td>\n",
              "      <td>1468761.0</td>\n",
              "    </tr>\n",
              "    <tr>\n",
              "      <th>336478</th>\n",
              "      <td>Trump News🇺🇸</td>\n",
              "      <td>@TrumpNewsNow</td>\n",
              "      <td>../../images.parler.com/c3ba17bb35d447f79f151d...</td>\n",
              "      <td>We have had ENOUGH❗️We love our country ❤️We l...</td>\n",
              "      <td>../../api.parler.com/l/noQYu.html</td>\n",
              "      <td>5 days ago</td>\n",
              "      <td>23165.0</td>\n",
              "    </tr>\n",
              "    <tr>\n",
              "      <th>336479</th>\n",
              "      <td>Montalto Paul</td>\n",
              "      <td>@MontaltoPaul</td>\n",
              "      <td>../../images.parler.com/422607581aa4486586483c...</td>\n",
              "      <td>NaN</td>\n",
              "      <td>NaN</td>\n",
              "      <td>5 days ago</td>\n",
              "      <td>22.0</td>\n",
              "    </tr>\n",
              "  </tbody>\n",
              "</table>\n",
              "<p>336480 rows × 7 columns</p>\n",
              "</div>"
            ],
            "text/plain": [
              "             author_name  author_username  ... post_timestamp post_impressions\n",
              "0               Andy Ngo         @AndyNgo  ...     5 days ago         132117.0\n",
              "1              Bill Kays      @rebootbill  ...     4 days ago             13.0\n",
              "2          Flint Bedrock    @flintbedrock  ...     5 days ago         248971.0\n",
              "3            Name Hidden    @Private User  ...     5 days ago           9829.0\n",
              "4            Name Hidden    @Private User  ...     5 days ago          15689.0\n",
              "...                  ...              ...  ...            ...              ...\n",
              "336475       Name Hidden    @Private User  ...     5 days ago           8694.0\n",
              "336476           Vmilner         @Vmilner  ...     5 days ago             44.0\n",
              "336477  Diamond And Silk  @DiamondAndSilk  ...     5 days ago        1468761.0\n",
              "336478      Trump News🇺🇸    @TrumpNewsNow  ...     5 days ago          23165.0\n",
              "336479     Montalto Paul    @MontaltoPaul  ...     5 days ago             22.0\n",
              "\n",
              "[336480 rows x 7 columns]"
            ]
          },
          "metadata": {
            "tags": []
          },
          "execution_count": 5
        }
      ]
    },
    {
      "cell_type": "code",
      "metadata": {
        "id": "mFAfce28-XH_",
        "outputId": "8a47bf8d-4458-4fd3-8abd-1fb85ed132cd",
        "colab": {
          "base_uri": "https://localhost:8080/"
        }
      },
      "source": [
        "\n",
        "import nltk\n",
        "nltk.download('punkt')\n",
        "nltk.download('stopwords')"
      ],
      "execution_count": 6,
      "outputs": [
        {
          "output_type": "stream",
          "text": [
            "[nltk_data] Downloading package punkt to /root/nltk_data...\n",
            "[nltk_data]   Unzipping tokenizers/punkt.zip.\n",
            "[nltk_data] Downloading package stopwords to /root/nltk_data...\n",
            "[nltk_data]   Unzipping corpora/stopwords.zip.\n"
          ],
          "name": "stdout"
        },
        {
          "output_type": "execute_result",
          "data": {
            "text/plain": [
              "True"
            ]
          },
          "metadata": {
            "tags": []
          },
          "execution_count": 6
        }
      ]
    },
    {
      "cell_type": "code",
      "metadata": {
        "id": "J9Cn4aVUrGzh"
      },
      "source": [
        "posts = df['post_text'].tolist()\n",
        "keep_tokens = []\n",
        "for post in posts:\n",
        "  if isinstance(post, str):\n",
        "    tokens = nltk.word_tokenize(post)\n",
        "    keep = []\n",
        "    for token in tokens:\n",
        "      word = token.lower()\n",
        "      if word.isalnum() and word not in nltk.corpus.stopwords.words('english'):\n",
        "        keep.append(word)\n",
        "    keep_tokens.append(keep)\n",
        "  else:\n",
        "    keep_tokens.append([])"
      ],
      "execution_count": 13,
      "outputs": []
    },
    {
      "cell_type": "code",
      "metadata": {
        "id": "zlr4FVoOvJ3M"
      },
      "source": [
        "df['post_tokens'] = keep_tokens"
      ],
      "execution_count": 14,
      "outputs": []
    },
    {
      "cell_type": "code",
      "metadata": {
        "id": "ksiBtM7gvLPG",
        "outputId": "60d3ab6f-afa9-4f76-c71f-977b61cfff21",
        "colab": {
          "base_uri": "https://localhost:8080/"
        }
      },
      "source": [
        "for idx,post in enumerate(keep_tokens):\n",
        "  if post:\n",
        "    if \"inside\" in post and \"muriel\" not in post:\n",
        "      print(df.iloc[idx]['post_text'])"
      ],
      "execution_count": 32,
      "outputs": [
        {
          "output_type": "stream",
          "text": [
            "As reported tonight on @RealAmericasVoice, the shocking inside look at what happened today in #gasenaterunoff ...\n",
            "As reported tonight on @RealAmericasVoice, the shocking inside look at what happened today in #gasenaterunoff ...\n",
            "Video inside Fulton County polling center - NO Republican observers, screens hidden from view\n",
            "As reported tonight on @RealAmericasVoice, the shocking inside look at what happened today in #gasenaterunoff ...\n",
            "Doc, Dopey, Grumpy, Sleepy, Happy, Bashful and Sneezy?CIA huge computers Seven Dwarfs - cloak-and-dagger- Operation code-named (Snow White) .=== Why was Op[e]ration Mockingbird repeated?Why was Jason Bourne (CIA/Dream) repeated?Think social media platforms.Who are the Wizards & Warloc[k]s? What council do the Wizards & Warlocks control?Think Snowden (inside terms dropped).Alice & Wonderland – understood.Snow White – understood.\n",
            "As reported tonight on @RealAmericasVoice, the shocking inside look at what happened today in #gasenaterunoff ...\n",
            "Our country must face truth about its so-called leaders. The good, bad & ugly truth. We must expose swamp inhabitants to disinfectant of sunshine.No more dirty little “inside Beltway” secrets. We need truth. These two men do not even tell us truth about their adopted children.\n",
            "ECHO PATRIOTS!PICK UP ALL DEMON TRIATOR WEAPONS AND BOMBS THEY ARE PREPOSITIONING FROM YOUR LAWNS AND STREETS AND TAKE THEM INSIDE ASAP! THIS IS UNCONVENTIONAL WARFARE! CHINESE TRAINED!Biden demon army has reinforcements at Southern border waiting.Who has the drone videos with the Patriot Trump Army movements in DC?\"GNOSIS: REMEMBERING WHO YOU ARE, THE CREATOR, ALL THAT IS, and knowing who your unconscious enemy believes it is, something less than YOU.\"I AM THAT, I AM aka W. Andrea ZiarnoAmerican PatriotECHO PATRIOTS!WE ARE AN ARMY OF GODDESSES AND GODS, THE CREATOR, ONE CONSCIOUSNESS. Our enemies are demons.SAY LOUDLY AND VISUALIZE:  PRESIDENT TRUMP IS INAUGURATED ON 20 JANUARY 2021. JOSEPH BIDEN CONCEDES PRIOR TO 20 JANUARY 2021. SO BE IT DONE (WHICH = AMEN).You say \"never concede\", THE UNIVERSE delivers 》》》 concede. This is why the saying \"Never say never\" exists.\n",
            "As reported tonight on @RealAmericasVoice, the shocking inside look at what happened today in #gasenaterunoff ...\n",
            "Katie Hopkins. What’s going on inside our hospitals? New video posting soon. #CoronaBollocks\n",
            "Well, my wife and I laughed out loud as we have a variety of sons, and we love them all no matter what, even the one who wears a mask inside our home (although he's not getting invited to our wedding anniversary party later this month).\n",
            "Nov 12 2017 14:52:34 (EST) ***** Q Q Q Q Q * Patriots don’t sleep. = /SA/global +the picture. = cannot/will not swallow. What is No Such Agency - Q group? +++Adm R+++ . war w/ Clowns In America? .. POTUS narrative? (80% covert. 20% public. ..over months? C-info leaks? Operations (think SA + ???)?CNN sale? ? large cash by Clowns In America (public)?Why???does [i]t hurt? control[s] the MSM? POTUS discredit MSM.[W]hy is this relevant?information transmitted?people inform[e]d?.. Op[e]ration Mockingbird .. Jason Bourne (CIA/Dream) repeated?social media platforms.Wizards & Warloc[k]s? What council control?Snowden (inside terms dropped).Alice & Wonderland – understood.Snow White – understood.Iron Eagle?Godfather III?Speed?Everything has meaning.Disney is a distraction.Senate & Congress = puppets (not all)(power shift).For [GOD & COUNTRY].For HUMANITY. GERONIMO.Q\n",
            "As reported tonight on @RealAmericasVoice, the shocking inside look at what happened today in #gasenaterunoff ...\n",
            "As reported tonight on @RealAmericasVoice, the shocking inside look at what happened today in #gasenaterunoff ...\n",
            "As reported tonight on @RealAmericasVoice, the shocking inside look at what happened today in #gasenaterunoff ...\n",
            "As reported tonight on @RealAmericasVoice, the shocking inside look at what happened today in #gasenaterunoff ...\n",
            "Exclusive: Sec Mike Pompeo: China’s Communist Party Is ‘Inside the Gates’ | American Thought Leaders\n",
            "As reported tonight on @RealAmericasVoice, the shocking inside look at what happened today in #gasenaterunoff ...\n",
            "As reported tonight on @RealAmericasVoice, the shocking inside look at what happened today in #gasenaterunoff ...\n",
            "Nov 12 2017 14:52:34 (EST) ***** Q Q Q Q Q * Patriots don’t sleep. = /SA/global +the picture. = cannot/will not swallow. What is No Such Agency - Q group? +++Adm R+++ . war w/ Clowns In America? .. POTUS narrative? (80% covert. 20% public. ..over months? C-info leaks? Operations (think SA + ???)?CNN sale? ? large cash by Clowns In America (public)?Why???does [i]t hurt? control[s] the MSM? POTUS discredit MSM.[W]hy is this relevant?information transmitted?people inform[e]d?.. Op[e]ration Mockingbird .. Jason Bourne (CIA/Dream) repeated?social media platforms.Wizards & Warloc[k]s? What council control?Snowden (inside terms dropped).Alice & Wonderland – understood.Snow White – understood.Iron Eagle?Godfather III?Speed?Everything has meaning.Disney is a distraction.Senate & Congress = puppets (not all)(power shift).For [GOD & COUNTRY].For HUMANITY. GERONIMO.Q\n",
            "A Bomb no one has picked up on and I think President Trump Knows, Did DOMINION take any PARTS OUT from INSIDE the machine? I bet he has Video just like at the Poll Count Center. HUGE: TRUMP DROPS A BOMB DURING PHONE CALL! Tells Raffensperger \"Vote Scammer and Hustler\" Ruby Freeman Was Behind Alleged 18,000 FRAUDULENT VOTES in Suitcase Scandal! (VIDEO)\n",
            "As reported tonight on @RealAmericasVoice, the shocking inside look at what happened today in #gasenaterunoff ...\n",
            "Happening in this very second!!! Inside the crowds in DC. Look at us, look at the patriots. The atmosphere here is awesome. Im the only one to offer you these live videos on Parler so follow me for more . Big echo\n",
            "As reported tonight on @RealAmericasVoice, the shocking inside look at what happened today in #gasenaterunoff ...\n",
            "What IS the truth inside Britain’s hospitals? Do we want our doctors and nurses to be activists? Shouldn’t they be there to make sick people well?\n",
            "WaPo's Robinson on Election Challenge: There's a 'Serial Killer' Inside House, Senate\n",
            "As reported tonight on @RealAmericasVoice, the shocking inside look at what happened today in #gasenaterunoff ...\n",
            "#FightBack#FightForTrump#FightOnOurKneesInPrayer#RaiseAHallelujahI raise a hallelujah, in the presence of my enemiesI raise a hallelujah, louder than the unbeliefI raise a hallelujah, my weapon is a melodyI raise a hallelujah, Heaven comes to fight for meI'm gonna sing, in the middle of the stormLouder and louder, you're gonna hear my praises roarUp from the ashes, hope will ariseDeath is defeated, the King is alive!I raise a hallelujah, with everything inside of meI raise a hallelujah, I will watch the darkness fleeI raise a hallelujah, in the middle of the mysteryI raise a hallelujah, fear you lost your hold on me!Continued in Comments.#WeStandForTheConstitution#InGodWeTrust#GodBlessAmerica#GodBlessPresidentTrump💚🙏🐲🐉🙏💚#smgz#godssoulcatchers#greenladyDragonArcher#GeneralMinion#Animo #AnimoLaSalle#BringBack :#Respect #Truth #Honesty #Integrity #Justice #Morality#Transparency #Accountability SHARE👈use and follow any of the hashtags above👈\n",
            "As reported tonight on @RealAmericasVoice, the shocking inside look at what happened today in #gasenaterunoff ...\n",
            "As reported tonight on @RealAmericasVoice, the shocking inside look at what happened today in #gasenaterunoff ...\n",
            "As reported tonight on @RealAmericasVoice, the shocking inside look at what happened today in #gasenaterunoff ...\n",
            "Do you know how many steps are inside the Washington Memorial?\n",
            "Happening in this very second!!! Inside the crowds in DC. Look at us, look at the patriots. The atmosphere here is awesome. Im the only one to offer you these live videos on Parler so follow me for more . Big echo\n",
            "As reported tonight on @RealAmericasVoice, the shocking inside look at what happened today in #gasenaterunoff ...\n",
            "As reported tonight on @RealAmericasVoice, the shocking inside look at what happened today in #gasenaterunoff ...\n",
            "As reported tonight on @RealAmericasVoice, the shocking inside look at what happened today in #gasenaterunoff ...\n",
            "*NEW VIDEO*It’s like waking up from a nightmare only to realize that you’re still trapped inside the nightmare.\n",
            "As reported tonight on @RealAmericasVoice, the shocking inside look at what happened today in #gasenaterunoff ...\n",
            "EXCLUSIVE Video: Sec. Mike Pompeo: China’s Communist Party Is ‘Inside the Gates’\n",
            "REAL BREAKING!!! 🔴🔴 This THREAD READER - Grab this NOW !!! before TwiTt3R removes it. Inside of the link go down to the bottom. There is a file link (starts with go file) - download that before someone messes with this server or blocks. If you don't want to download, there are 2 links to listen in the thread- It's over!!MIND BLOWING! 🔴🔴 I knew he wouldn't need to rely on the pence card!\n",
            "As reported tonight on @RealAmericasVoice, the shocking inside look at what happened today in #gasenaterunoff ...\n",
            "As reported tonight on @RealAmericasVoice, the shocking inside look at what happened today in #gasenaterunoff ...\n",
            "Video inside Fulton County polling center - NO Republican observers, screens hidden from view\n",
            "As reported tonight on @RealAmericasVoice, the shocking inside look at what happened today in #gasenaterunoff ...\n",
            "As reported tonight on @RealAmericasVoice, the shocking inside look at what happened today in #gasenaterunoff ...\n",
            "Nov 12 2017 14:52:34 (EST) ***** Q Q Q Q Q * Patriots don’t sleep. = /SA/global +the picture. = cannot/will not swallow. What is No Such Agency - Q group? +++Adm R+++ . war w/ Clowns In America? .. POTUS narrative? (80% covert. 20% public. ..over months? C-info leaks? Operations (think SA + ???)?CNN sale? ? large cash by Clowns In America (public)?Why???does [i]t hurt? control[s] the MSM? POTUS discredit MSM.[W]hy is this relevant?information transmitted?people inform[e]d?.. Op[e]ration Mockingbird .. Jason Bourne (CIA/Dream) repeated?social media platforms.Wizards & Warloc[k]s? What council control?Snowden (inside terms dropped).Alice & Wonderland – understood.Snow White – understood.Iron Eagle?Godfather III?Speed?Everything has meaning.Disney is a distraction.Senate & Congress = puppets (not all)(power shift).For [GOD & COUNTRY].For HUMANITY. GERONIMO.Q\n",
            "Happening in this very second!!! Inside the crowds in DC. Look at us, look at the patriots. The atmosphere here is awesome. Im the only one to offer you these live videos on Parler so follow me for more . Big echo\n",
            "Nov 12 2017 14:52:34 (EST) ***** Q Q Q Q Q * Patriots don’t sleep. = /SA/global +the picture. = cannot/will not swallow. What is No Such Agency - Q group? +++Adm R+++ . war w/ Clowns In America? .. POTUS narrative? (80% covert. 20% public. ..over months? C-info leaks? Operations (think SA + ???)?CNN sale? ? large cash by Clowns In America (public)?Why???does [i]t hurt? control[s] the MSM? POTUS discredit MSM.[W]hy is this relevant?information transmitted?people inform[e]d?.. Op[e]ration Mockingbird .. Jason Bourne (CIA/Dream) repeated?social media platforms.Wizards & Warloc[k]s? What council control?Snowden (inside terms dropped).Alice & Wonderland – understood.Snow White – understood.Iron Eagle?Godfather III?Speed?Everything has meaning.Disney is a distraction.Senate & Congress = puppets (not all)(power shift).For [GOD & COUNTRY].For HUMANITY. GERONIMO.Q\n",
            "~About to pull these steaks off the grill.It’s my neighbor’s grill, but he went inside and I don’t think he will see me.🤪😂\n",
            "As reported tonight on @RealAmericasVoice, the shocking inside look at what happened today in #gasenaterunoff ...\n",
            "Happening in this very second!!! Inside the crowds in DC. Look at us, look at the patriots. The atmosphere here is awesome. Im the only one to offer you these live videos on Parler so follow me for more . Big echo\n",
            "As reported tonight on @RealAmericasVoice, the shocking inside look at what happened today in #gasenaterunoff ...\n",
            "I can't figure out how to post this in its entirety, so I hope this works.I received this from a friend of mine. The title: Be Proud to be White. Just because someone posts this doesn't make anyone a racist! We are born the way we are. We are NOT responsible for what anyone has done in the past ... even if they share a similar skin color! Accept people for who they are, on tbe inside. The container is irrelevant.\n",
            "Most flights are sold out leaving to Washington, D.C. on January 6th to #fightfortrump I cannot wait to be a part of the history that will be made on this historic day. I also wanted to announce that I’ve organized the Global Frontline Nurses coming forward to expose the lies that have going on inside the hospitals you’ve been locked out of. We have moved the venue from Tampa, FL and will be taking the stage in Washington on 1/6! The truth always wins in the end. Details to follow. #nursewhistleblowers\n",
            "Nov 12 2017 14:52:34 (EST) ***** Q Q Q Q Q * Patriots don’t sleep. = /SA/global +the picture. = cannot/will not swallow. What is No Such Agency - Q group? +++Adm R+++ . war w/ Clowns In America? .. POTUS narrative? (80% covert. 20% public. ..over months? C-info leaks? Operations (think SA + ???)?CNN sale? ? large cash by Clowns In America (public)?Why???does [i]t hurt? control[s] the MSM? POTUS discredit MSM.[W]hy is this relevant?information transmitted?people inform[e]d?.. Op[e]ration Mockingbird .. Jason Bourne (CIA/Dream) repeated?social media platforms.Wizards & Warloc[k]s? What council control?Snowden (inside terms dropped).Alice & Wonderland – understood.Snow White – understood.Iron Eagle?Godfather III?Speed?Everything has meaning.Disney is a distraction.Senate & Congress = puppets (not all)(power shift).For [GOD & COUNTRY].For HUMANITY. GERONIMO.Q\n",
            "*NEW VIDEO*It’s like waking up from a nightmare only to realize that you’re still trapped inside the nightmare.\n",
            "As my old Irish GrandDAD used to say \"There's more nutters outside the nuthouse than inside\"GrandPARENT knew....\n",
            "FQLKS.....buckle up, keep arms, legs inside thw ride at all times!! The next 48 hours gonna be DIS-IMFORMATION WARFARE!!! I suggest grab some drinks and snacks!! We are all witnessing HISTORY!!!\n",
            "As reported tonight on @RealAmericasVoice, the shocking inside look at what happened today in #gasenaterunoff ...\n",
            "Well if it’s time then let’s start seeing some head rolls dammit we’ve been holding the line very patiently it is time to start seeing these treasonous bastard’s drop at the Gallo‘s lined up and shot in the firing squads or wired into the chair and the hammer falls and electricity through the persons body frying them from the inside outThe plan. Ueah its time for the plan president trump. Lets do this.\n",
            "Mike Coudrey on Twitter: \"DC ATTENDEES, REMEMBER: -Most streets will be CLOSED. Wear comfortable shoes. -Indoor dining is closed. Hotel room service is available. -Bring snacks, portable batteries and phone chargers. -Stay inside at night. -If we give the order, DO NOT LEAVE DC. OCCUPY! \" / Twitter\n",
            "As reported tonight on @RealAmericasVoice, the shocking inside look at what happened today in #gasenaterunoff ...\n",
            "*NEW VIDEO*It’s like waking up from a nightmare only to realize that you’re still trapped inside the nightmare.\n",
            "Video inside Fulton County polling center - NO Republican observers, screens hidden from view\n",
            "As reported tonight on @RealAmericasVoice, the shocking inside look at what happened today in #gasenaterunoff ...\n",
            "As reported tonight on @RealAmericasVoice, the shocking inside look at what happened today in #gasenaterunoff ...\n",
            "Video inside Fulton County polling center - NO Republican observers, screens hidden from view\n",
            "As reported tonight on @RealAmericasVoice, the shocking inside look at what happened today in #gasenaterunoff ...\n",
            "Video inside Fulton County polling center - NO Republican observers, screens hidden from view\n",
            "REAL BREAKING!!! 🔴🔴 This THREAD READER - Grab this NOW !!! before TwiTt3R removes it. Inside of the link go down to the bottom. There is a file link (starts with go file) - download that before someone messes with this server or blocks. If you don't want to download, there are 2 links to listen in the thread- It's over!!MIND BLOWING! 🔴🔴 I knew he wouldn't need to rely on the pence card!\n",
            "*NEW VIDEO*It’s like waking up from a nightmare only to realize that you’re still trapped inside the nightmare.\n",
            "GUESS THESE IDIOTS WILL BE LOCKED INSIDE THEIR HOMES NEXT\n",
            "Happening in this very second!!! Inside the crowds in DC. Look at us, look at the patriots. The atmosphere here is awesome. Im the only one to offer you these live videos on Parler so follow me for more . Big echo\n",
            "Video inside Fulton County polling center - NO Republican observers, screens hidden from view\n",
            "As reported tonight on @RealAmericasVoice, the shocking inside look at what happened today in #gasenaterunoff ...\n",
            "Republican Senator Josh Hawley (R-MO) claimed late Monday night that a Antifa mob had gathered outside his home and begun attacking the property, threatening his petrified family who were inside.\n",
            "Absolutely fantastic perfectly written article! It’s like she was inside my head! Give it a read, share it and give her a follow! God Bless! 🇺🇸🇺🇸🇺🇸\n",
            "“..We took our eye off this enormous threat and now it’s now upon us. It’s now inside the gates, the Chinese Communist Party is here in America, and the Trump administration has begun in every dimension to turn the ship in the right direction, to get America to once again do the right thing and protect itself from this communist threat in China...” Since the \"great reset\" has been planned for decades by members of the World Economic Forum and Trilateral Commission - treasonists who help to outfit the CCP with the latest surveillance equipment and make their residence in the U.S., WE never should have taken OUR eyes off the threat.\n",
            "Video inside Fulton County polling center - NO Republican observers, screens hidden from view\n",
            "As reported tonight on @RealAmericasVoice, the shocking inside look at what happened today in #gasenaterunoff ...\n",
            "As reported tonight on @RealAmericasVoice, the shocking inside look at what happened today in #gasenaterunoff ...\n",
            "As reported tonight on @RealAmericasVoice, the shocking inside look at what happened today in #gasenaterunoff ...\n",
            "Was watching right side broadcasting in the DC rally tonight when YouTube suddenly cut him off took a picture of the screen before they shut it off the internet connection was the steel what they did each county and state contracted with Dominion made a promise and a deal in a contract saying they wouldn't inspect the software inside the Dominion voting machines\n",
            "As reported tonight on @RealAmericasVoice, the shocking inside look at what happened today in #gasenaterunoff ...\n",
            "@trfirefox Governor Newsom Has put me out of business.He Closed schools that I contracted with.He never closed his businesses,his children’s schools were not closed they were able to attend in person.My liability insurance won’t cover me as long as we’re shutdown. The anger I feel is indescribable the worry I have is almost unbearable & the fight I have brewing inside me will be uncontrollable if this madness isn’t stopped! I’ve worked since I was 10 years old. I’ve taken care of my ranch 7 days a week 12 hour days by myself to support myself &daughter. I’m a proud patriot that believes if you want something you have to work for it.I was taught how to work at a young age&have carried that work ethic with me ever since. I won’t give up and I won’t sit idle and lose what I’ve worked for without a fight! I’m proud& now I’m forced to ask for help from my fellow patriots. Humbling& heartbreaking. God will prevail 💕\n",
            "As reported tonight on @RealAmericasVoice, the shocking inside look at what happened today in #gasenaterunoff ...\n",
            "Happening in this very second!!! Inside the crowds in DC. Look at us, look at the patriots. The atmosphere here is awesome. Im the only one to offer you these live videos on Parler so follow me for more . Big echo\n",
            "As reported tonight on @RealAmericasVoice, the shocking inside look at what happened today in #gasenaterunoff ...\n",
            "*NEW VIDEO*It’s like waking up from a nightmare only to realize that you’re still trapped inside the nightmare.\n",
            "REAL BREAKING!!! 🔴🔴 This THREAD READER - Grab this NOW !!! before TwiTt3R removes it. Inside of the link go down to the bottom. There is a file link (starts with go file) - download that before someone messes with this server or blocks. If you don't want to download, there are 2 links to listen in the thread- It's over!!MIND BLOWING! 🔴🔴 I knew he wouldn't need to rely on the pence card!\n",
            "As reported tonight on @RealAmericasVoice, the shocking inside look at what happened today in #gasenaterunoff ...\n",
            "CHRISTMAS IS OVER, A NEW YEAR IS UPON US. The grim reality:We are at war. To you all that have any will left inside of you, prepare for battle against hunger, sickness,shelter and protection.  If something doesn’t happen soon , which is likely not going to, we are going to fight ,EACH OTHER.PLAN: for those of you that live in a predominantly blue area and still believe in America, reach out to friends or family that will take you in temporarily. Plan to make it there when this situation worsens.  Take some of your savings and buy dry-foods. Learn how to filter water.  Buy extra meds like ibuprofen and such. Buy a hand crank radio, flashlight, USB charger.I’ve held the idea for months that this is going to be over and we’ll prevail in courts but our own elected officials have sided with globalism. Very Scary INDEED!! Be vigilant and take note of who our enemies are now. You know some , I do as well. Prepare, Pray, and Accept. War is upon our doorstep!Good luck!!\n",
            "*NEW VIDEO*It’s like waking up from a nightmare only to realize that you’re still trapped inside the nightmare.\n",
            "*NEW VIDEO*It’s like waking up from a nightmare only to realize that you’re still trapped inside the nightmare.\n",
            "Happening in this very second!!! Inside the crowds in DC. Look at us, look at the patriots. The atmosphere here is awesome. Im the only one to offer you these live videos on Parler so follow me for more . Big echo\n",
            "The Aulterra™  Whole Car USB neutralizes EMF radiation inside your car providing full automobile EMF protection and creates a healthier driving experience.Aulterra Products have been proven to work by domestic and international, independent research. Studied at universities, research labs, and by doctors around the world. Documents research on our site ❗Echo ❗Thank you🙏\n",
            "As reported tonight on @RealAmericasVoice, the shocking inside look at what happened today in #gasenaterunoff ...\n",
            "REAL BREAKING!!! 🔴🔴 This THREAD READER - Grab this NOW !!! before TwiTt3R removes it. Inside of the link go down to the bottom. There is a file link (starts with go file) - download that before someone messes with this server or blocks. If you don't want to download, there are 2 links to listen in the thread- It's over!!MIND BLOWING! 🔴🔴 I knew he wouldn't need to rely on the pence card!\n",
            "As reported tonight on @RealAmericasVoice, the shocking inside look at what happened today in #gasenaterunoff ...\n",
            "As reported tonight on @RealAmericasVoice, the shocking inside look at what happened today in #gasenaterunoff ...\n",
            "Support our american business ❗🙏 Protect your family and yourself from 5G radiation❗✌ Great tech 😮The Aulterra™  Whole House USB neutralizes EMF’s coming from all electrical devices plugged into the inside or outside of the home and ambient EMF’s coming in from outside the home❗Echo ✌\n",
            "As reported tonight on @RealAmericasVoice, the shocking inside look at what happened today in #gasenaterunoff ...\n",
            "Apple Maps Blocking Travel Directions to Washington DC Day Before Pro-Trump Protests - National FileWords can’t describe my rage over this. If this doesn’t make your blood boil, you’re dead inside...\n",
            "BLOW IT ALL UP IF WE HAVE TOO,DEMS/RINOS INSIDE\n",
            "As my old Irish GrandDAD used to say \"There's more nutters outside the nuthouse than inside\"GrandPARENT knew....\n",
            "Exclusive: Sec Mike Pompeo: China’s Communist Party Is ‘Inside the Gates’ | American Thought Leaders\n",
            "As reported tonight on @RealAmericasVoice, the shocking inside look at what happened today in #gasenaterunoff ...\n",
            "UGLY PIECE OF SHIT ON THE INSIDE AND OUT. SICK OF THIS FUCKING DUDES FACE.\n",
            "Cyber Security Expert Roy Bettle joins Dr. Turley for an exclusive inside look at Dominion Voting Machines and the state of Cybersecurity today. Join Graybeard Security at the Turley Talks New Years Conference this Saturday, January 9th, at 10 AM EST.\n",
            "As reported tonight on @RealAmericasVoice, the shocking inside look at what happened today in #gasenaterunoff ...\n",
            "Exclusive: Sec Mike Pompeo: China’s Communist Party Is ‘Inside the Gates’ | American Thought Leaders\n",
            "Exclusive: Sec Mike Pompeo: China’s Communist Party Is ‘Inside the Gates’ | American Thought Leaders\n",
            "It is January 6, 2021. God is still on the throne and Jesus is alive and interceding for those who believe. Let us not be destructed or distracted by the evil of this world. Let us not cast our eyes downward as those who have no hope? Let us reach deep inside and find the strength of Christ who came as a Lamb but will return as a Lion!! Behold Him. He is testing our faith. Do not let your faith waver. He is doing a new thing and in the end, we will have victory over all evil. Take heart brothers and sisters. It’s much much bigger than Republican vs Democrats. Satan will be cast away and Jesus will reign!! Pray for yourselves but also for your friends and family who are blinded to the truth. Time is short.\n",
            "As reported tonight on @RealAmericasVoice, the shocking inside look at what happened today in #gasenaterunoff ...\n",
            "As reported tonight on @RealAmericasVoice, the shocking inside look at what happened today in #gasenaterunoff ...\n",
            "So... Let me get this straight:The word Mother (one of my proud titles) is banned from the language of Law inside the House of Representatives? ... hmmmm, butA prayer to BRAHMA IS PERMITTED to end in “AWOMEN” ... not even a word ?\n",
            "Raphael Warnock has the devil’s heart beating inside him. #evil#devilsheart#ungodly #communist\n",
            "Happening in this very second!!! Inside the crowds in DC. Look at us, look at the patriots. The atmosphere here is awesome. Im the only one to offer you these live videos on Parler so follow me for more . Big echo\n",
            "The Enemy is inside the gate!!\n",
            "Leftist CIA officers have been engaged in a quest to control the government since the 1950s. It was initiated by Soviet KGB officers inside the CIA. The KGB was exposed in 1984, but it was never made public.The CIA killed 16 Members of Congress with “accidents” and “suicides” in 34 years from 1957 to 1991. My book has the details.The CIA assassinated President Kennedy and tried to kill President Reagan. They also had plans to kill Presidents Johnson, Nixon, and Ford.Chuck Schumer is one of the covert CIA officers in Congress. He was a KGB “asset” when he was first elected in 1980.After the KGB was exposed, Schumer and his CIA colleagues began their own quest to control the government.Leftist CIA officers enlisted Joe Biden as an “asset” and targeted him for the Presidency in 1984. They are behind the massive election fraud of 2020.Leftist CIA officers are bent on destroying America. Click the link.\n",
            "A man arrested for raping and robbing a woman on New Year's Eve was found to be living inside a homeless shelter filled with sex offenders.#irishangel #blesstheblue #Let\n",
            "In Georgia it appears the Black Tribe of Georgia has fallen under the evil spell of Communism. It is a warning to all American tribes that the threat of Communism is real and it it is inside our walls to destroy our freedoms and values. Communism is pure Evil.\n",
            "Exclusive: Sec Mike Pompeo: China’s Communist Party Is ‘Inside the Gates’ | American Thought Leaders\n",
            "As reported tonight on @RealAmericasVoice, the shocking inside look at what happened today in #gasenaterunoff ...\n",
            "As reported tonight on @RealAmericasVoice, the shocking inside look at what happened today in #gasenaterunoff ...\n",
            "As reported tonight on @RealAmericasVoice, the shocking inside look at what happened today in #gasenaterunoff ...\n",
            "As reported tonight on @RealAmericasVoice, the shocking inside look at what happened today in #gasenaterunoff ...\n",
            "As reported tonight on @RealAmericasVoice, the shocking inside look at what happened today in #gasenaterunoff ...\n",
            "Nov 12 2017 14:52:34 (EST) ***** Q Q Q Q Q * Patriots don’t sleep. = /SA/global +the picture. = cannot/will not swallow. What is No Such Agency - Q group? +++Adm R+++ . war w/ Clowns In America? .. POTUS narrative? (80% covert. 20% public. ..over months? C-info leaks? Operations (think SA + ???)?CNN sale? ? large cash by Clowns In America (public)?Why???does [i]t hurt? control[s] the MSM? POTUS discredit MSM.[W]hy is this relevant?information transmitted?people inform[e]d?.. Op[e]ration Mockingbird .. Jason Bourne (CIA/Dream) repeated?social media platforms.Wizards & Warloc[k]s? What council control?Snowden (inside terms dropped).Alice & Wonderland – understood.Snow White – understood.Iron Eagle?Godfather III?Speed?Everything has meaning.Disney is a distraction.Senate & Congress = puppets (not all)(power shift).For [GOD & COUNTRY].For HUMANITY. GERONIMO.Q\n",
            "🔴 PREMIERE 7:15pm ET: \"We took our eye off this enormous threat and… it's now inside the gates. The #ChineseCommunistParty is here in America.\"EXCLUSIVE with Secretary Mike Pompeo on the #CCP threat & why the West must take a stand against the communist regime—with @JanJekielek on American Thought Leaders 🇺🇸 @atl !\n",
            "GEORGIA UPDATE 🗳 Republicans aren’t turning out. Sources inside Loeffler/Perdue HQ state the sentiment is “worrisome.” CURRENT NUMBERS:Ossoff: 1,314,733Perdue: 1,309,438Warnock: 1,324,257Loeffler: 1,307,258AS I WRITE THIS A MAJOR DATA DUMP TIGHTENS RACE CONSIDERABLY. NOT OVER YET.\n",
            "If you are surprised that pretend Russian collision with the Trump Administration was a huge deal, but the Chinese Government living inside the ass of Eric Swalwell isn't a problem at all...You haven't been paying attention. Democrats and the Media only care about increasing their own wealth and power.Literally nothing else.\n",
            "As reported tonight on @RealAmericasVoice, the shocking inside look at what happened today in #gasenaterunoff ...\n",
            "Cyber Security Expert Roy Bettle joins Dr. Turley for an exclusive inside look at Dominion Voting Machines and the state of Cybersecurity today. Join Graybeard Security at the Turley Talks New Years Conference this Saturday, January 9th, at 10 AM EST.\n",
            "Just so you all know. There IS a Presidential book of secrets which outlines the plan in case of nuclear attack. I've seen it and I took a picture of the single page that is found inside that book...I am risking a lot posting it here but you need to see it...\n",
            "As reported tonight on @RealAmericasVoice, the shocking inside look at what happened today in #gasenaterunoff ...\n",
            "As reported tonight on @RealAmericasVoice, the shocking inside look at what happened today in #gasenaterunoff ...\n",
            "Video inside Fulton County polling center - NO Republican observers, screens hidden from view\n",
            "As my old Irish GrandDAD used to say \"There's more nutters outside the nuthouse than inside\"GrandPARENT knew....\n",
            "The heart knows truth deep inside.\n",
            "*NEW VIDEO*It’s like waking up from a nightmare only to realize that you’re still trapped inside the nightmare.\n",
            "Nov 12 2017 14:52:34 (EST) ***** Q Q Q Q Q * Patriots don’t sleep. = /SA/global +the picture. = cannot/will not swallow. What is No Such Agency - Q group? +++Adm R+++ . war w/ Clowns In America? .. POTUS narrative? (80% covert. 20% public. ..over months? C-info leaks? Operations (think SA + ???)?CNN sale? ? large cash by Clowns In America (public)?Why???does [i]t hurt? control[s] the MSM? POTUS discredit MSM.[W]hy is this relevant?information transmitted?people inform[e]d?.. Op[e]ration Mockingbird .. Jason Bourne (CIA/Dream) repeated?social media platforms.Wizards & Warloc[k]s? What council control?Snowden (inside terms dropped).Alice & Wonderland – understood.Snow White – understood.Iron Eagle?Godfather III?Speed?Everything has meaning.Disney is a distraction.Senate & Congress = puppets (not all)(power shift).For [GOD & COUNTRY].For HUMANITY. GERONIMO.Q\n",
            "Video inside Fulton County polling center - NO Republican observers, screens hidden from view\n",
            "As reported tonight on @RealAmericasVoice, the shocking inside look at what happened today in #gasenaterunoff ...\n",
            "Inside the West Wing: Trump didn't want to go back to Georgia But the devil went anyone! And he lost again! Lol\n",
            "2. God isn't limited by what we ask or what we can imagine. He has no limit, and He can't fit inside any box. The fact in this verse is simple: He does \"immeasurably\" greater things than what we can ever ask or dream. Forget the limits friend. Believe He is who He says He is, and that He will do what He says He will do. Allow Him to demonstrate His great power IN you and THROUGH you! You can accomplish much more with His power than you can with pity. 🙌Have a blessed and powerful day in Christ!🙌\n",
            "As reported tonight on @RealAmericasVoice, the shocking inside look at what happened today in #gasenaterunoff ...\n",
            "REAL BREAKING!!! 🔴🔴 This THREAD READER - Grab this NOW !!! before TwiTt3R removes it. Inside of the link go down to the bottom. There is a file link (starts with go file) - download that before someone messes with this server or blocks. If you don't want to download, there are 2 links to listen in the thread- It's over!!MIND BLOWING! 🔴🔴 I knew he wouldn't need to rely on the pence card!\n",
            "🚨Decoded: A Week to Remember!5 Photos.Photo 1: George News tweet (founded by JFK Jr.), specifically pointing out the timestamp 6:10.Photo 2: Q Post 610 - Track resignations. Where there was once darkness, there will be LIGHT.Photo 3: Link inside Q Post 610. Executive Order Blocking Property of Persons Involved In Serious Human Rights Abuse or Corruption.Photo 4: Q Post with link containing 610 within it. NOW COMES THE PAIN.Photo 4: Q Post with link containing 610 within it. A WEEK TO REMEMBER.This week will be a week to remember in the history books. Mark your calendars for Wednesday 1/6, with Assange on the verge of FREEDOM (judge will decide), and electoral votes being counted where Pence/Legislators may object and overturn the election. KEEP THE FAITH, ALMOST THERE PATRIOTS! WE WILL WIN!\n",
            "As reported tonight on @RealAmericasVoice, the shocking inside look at what happened today in #gasenaterunoff ...\n",
            "*NEW VIDEO*It’s like waking up from a nightmare only to realize that you’re still trapped inside the nightmare.\n",
            "Dear People of Oregon:While Kate Brown encourages you to rat out your neighbors for having Thanksgiving with your family, she and her security staff are not following her own Covid orders.“In an interview with PJ Media, the witness, a woman named Rebekah (she asked us not to include her last name out of fear of retaliation from Gov. Brown) described the scene. Rebekah brought her kids to a riverside park on a hot summer day to go swimming. She happened upon Kate Brown and her Oregon State Police security detail on a trail next to the park in Marion County. None were wearing masks, despite a mid-July executive order requiring masks outdoors, not just inside public buildings.”#projectfightback #fightbackoregon #trumptrain #oregon #katebrown #recallkatebrown #americafirst #covid19 #covid19hoax\n",
            "As reported tonight on @RealAmericasVoice, the shocking inside look at what happened today in #gasenaterunoff ...\n",
            "REAL BREAKING!!! 🔴🔴 This THREAD READER - Grab this NOW !!! before TwiTt3R removes it. Inside of the link go down to the bottom. There is a file link (starts with go file) - download that before someone messes with this server or blocks. If you don't want to download, there are 2 links to listen in the thread- It's over!!MIND BLOWING! 🔴🔴 I knew he wouldn't need to rely on the pence card!\n",
            "As reported tonight on @RealAmericasVoice, the shocking inside look at what happened today in #gasenaterunoff ...\n",
            "Dear People of Oregon:While Kate Brown encourages you to rat out your neighbors for having Thanksgiving with your family, she and her security staff are not following her own Covid orders.“In an interview with PJ Media, the witness, a woman named Rebekah (she asked us not to include her last name out of fear of retaliation from Gov. Brown) described the scene. Rebekah brought her kids to a riverside park on a hot summer day to go swimming. She happened upon Kate Brown and her Oregon State Police security detail on a trail next to the park in Marion County. None were wearing masks, despite a mid-July executive order requiring masks outdoors, not just inside public buildings.”#projectfightback #fightbackoregon #trumptrain #oregon #katebrown #recallkatebrown #americafirst #covid19 #covid19hoax\n",
            "Video inside Fulton County polling center - NO Republican observers, screens hidden from view\n",
            "“...If, according to our whistleblower, Joseph Rosati was the one responsible for orchestrating the attack on Seth Rich, and potentially “cleaning up” the two MS-13 agents after the shakedown went south… who put him up to it?What you are about to read is parsed from several hours of leaked testimony I listened through today, via a whistleblower – testimony which is currently under seal in the District Court of Maryland.This is the court case:Lin Wood referenced on Twitter earlier:What follows is a summary of the multi-hour-long testimony of alias Ryan White, delivered and recorded over several months, wherein White claims he was arrested by the very same man who was involved in the murder of Seth Rich, and the subsequent cover-up – Joseph Rosati.White, working as a private investigator himself, had routine contact with several men working inside government agencies, including one Secret Service agent, Shaun Bridges, and another DEA agent, Carl Mark Force.\n",
            "As reported tonight on @RealAmericasVoice, the shocking inside look at what happened today in #gasenaterunoff ...\n",
            "Muslims Demand Texas Mayor Surrender After She Attacked Shariah Court. Here’s Her ResponseThe group of Muslims who attempted to establish the first Islamic Sharia court inside the United States in the town of Irving, Texas just received a devastating blow thanks to the town’s mayor standing strong and not backing down.Mayor Beth Van Duyne made a public Facebook post stating that she backs the new Texas law which prohibits any kind of foreign law from being practiced in the state of Texas.After calls, threats and toddler-like demands to apologize from the Muslims who attempted to form the Sharia tribunal along with representatives from the Council on Islamic-American Relations, a known front for the Muslim Brotherhood, the mayor never once backed down.Please echo and please, if you're in Texas, hold this Patriot up as an example to other Mayors and Government Officials.\n",
            "There is a fundamental reason why our enemies dare not attack [invade] our borders [armed citizenry]. If America falls so does the world. If America falls darkness will soon follow. Only when we stand together, only when we are united, can we defeat this highly entrenched dark enemy. Their power and control relies heavily on an uneducated population.A population that trusts without individual thought.A population that obeys without challenge. A population that remains outside of free thought, and instead, remains isolated living in fear inside of the closed-loop echo chamber of the controlled mainstream media. This is not about politics.This is about preserving our way of life and protecting the generations that follow.We are living in Biblical times.Children of light vs children of darkness.United against the Invisible Enemy of all humanity.Q\n",
            "*NEW VIDEO*It’s like waking up from a nightmare only to realize that you’re still trapped inside the nightmare.\n",
            "As reported tonight on @RealAmericasVoice, the shocking inside look at what happened today in #gasenaterunoff ...\n",
            "A man arrested for raping and robbing a woman on New Year's Eve was found to be living inside a homeless shelter filled with sex offenders.#cops #police #talkradio #podcast\n",
            "As reported tonight on @RealAmericasVoice, the shocking inside look at what happened today in #gasenaterunoff ...\n",
            "As reported tonight on @RealAmericasVoice, the shocking inside look at what happened today in #gasenaterunoff ...\n",
            "There is a fundamental reason why our enemies dare not attack [invade] our borders [armed citizenry]. If America falls so does the world. If America falls darkness will soon follow. Only when we stand together, only when we are united, can we defeat this highly entrenched dark enemy. Their power and control relies heavily on an uneducated population.A population that trusts without individual thought.A population that obeys without challenge. A population that remains outside of free thought, and instead, remains isolated living in fear inside of the closed-loop echo chamber of the controlled mainstream media. This is not about politics.This is about preserving our way of life and protecting the generations that follow.We are living in Biblical times.Children of light vs children of darkness.United against the Invisible Enemy of all humanity.Q\n",
            "Sooooo yeahhhh how is nobody talking about this?! If you dont know #johnmcafee (this guy who makes that anti virus software thats super fucking annoying and always pops up on your windows computer, something you needed in the past but no one gives a shit anymore about) is supposed to eat his dick on national tv if #bitcoin isnt priced at 1 million dollars. He made this promise like a few years ago, now ive see that documentary about him “gringo” and he definitely seems like the type that knows a lot of insane inside knowledge so i honestly thought it might get close, butttt we aren’t that close, its been pretty high lately but nope. So this will be exciting to see if he does eat his dick. #crypto #cryptocurrency #cryptocurrencies #cryptonews #xrp #xrpcommunity #xrpthestandard #ripplexrp\n",
            "Did you notice how the same MO played out? Let's see how many votes we are down around 75percent into counting. One or two counties at mid 50s . Once they see how many the truck backs in and BOOM .. more ballots..or boom a.mild voting machine change! When will we really stop this..since Barack they have been destroying this country from the inside, stopped tetemporarily by Trump, now it just continues..watchthe electoral college gun rights scotus packing single payer healthcare no school choice..it will happen fast. Wake up\n",
            "Video inside Fulton County polling center - NO Republican observers, screens hidden from view\n",
            "Excited to share this item from my #etsy shop: 2020 Review Mug, 2020 Do Over Mug, Mug with Color Inside, 2020 Funny Mug, 2020 Joke Mug, Silly Mug, 2020, 2020 Gift, Dad Gift, Mom Gift\n",
            "Happening in this very second!!! Inside the crowds in DC. Look at us, look at the patriots. The atmosphere here is awesome. Im the only one to offer you these live videos on Parler so follow me for more . Big echo\n",
            "As reported tonight on @RealAmericasVoice, the shocking inside look at what happened today in #gasenaterunoff ...\n",
            "Pence... pray for him. That the God inside his heart will drive him to do what’s right today. Past evils... People can change. Holy Spirit 🙌🏻\n",
            "As reported tonight on @RealAmericasVoice, the shocking inside look at what happened today in #gasenaterunoff ...\n",
            "As reported tonight on @RealAmericasVoice, the shocking inside look at what happened today in #gasenaterunoff ...\n",
            "The @GOP is dead now. #Georgia now a Blue state. Only Patriots can save America now. Even if Trump did somehow turn his election around, Schumer and Pelosi would impeach him inside 6 months. The real bad news? We are stuck with a fraudulent voting process that ensures Democrats win every time.\n",
            "As reported tonight on @RealAmericasVoice, the shocking inside look at what happened today in #gasenaterunoff ...\n",
            "A woman in the UK was arrested by police after she filmed a video inside an almost completely empty hospital and posted it online.\n",
            "Doc, Dopey, Grumpy, Sleepy, Happy, Bashful and Sneezy?CIA huge computers Seven Dwarfs - cloak-and-dagger- Operation code-named (Snow White) .=== Why was Op[e]ration Mockingbird repeated?Why was Jason Bourne (CIA/Dream) repeated?Think social media platforms.Who are the Wizards & Warloc[k]s? What council do the Wizards & Warlocks control?Think Snowden (inside terms dropped).Alice & Wonderland – understood.Snow White – understood.\n",
            "On November 9th Biden/Harris Inauguration tickets were made available. Smaller crowds were predicted due to Covid-19. The festivities were canceled today due to poor sales of FREE tickets. Apparently the turnout was more commensurate with campaign whistle stop crowds attended mostly by protesting Trump supporters who could faintly hear the candidates screaming promises and Trump hatred at empty white circles.The “Office of the Almost Elected” did not release an exact count of Free tickets sold. Vegas odds were 0.5 to 1.0 % expected using the Trump average stadium inside and outside crowds of 50,000 as a base number.The campaign did say that they are now planning a virtual inauguration as opposed to expected crowds at this weeks Trump Rally expected to be just a cool million. With voter fraud evidence mounting daily, it appears that the Biden/Harris win was VIRTUALLY impossible. Especially in lieu of massive Trump rally’s in honor of the fake media decided Virtual Loser.\n",
            "Happening in this very second!!! Inside the crowds in DC. Look at us, look at the patriots. The atmosphere here is awesome. Im the only one to offer you these live videos on Parler so follow me for more . Big echo\n",
            "Exclusive: Sec Mike Pompeo: China’s Communist Party Is ‘Inside the Gates’ | American Thought Leaders - YouTube\n",
            "Leftist CIA officers have been engaged in a quest to control the government since the 1950s. It was initiated by Soviet KGB officers inside the CIA. The KGB was exposed in 1984, but it was never made public.The CIA killed 16 Members of Congress with “accidents” and “suicides” in 34 years from 1957 to 1991. My book has the details.The CIA assassinated President Kennedy and tried to kill President Reagan. They also had plans to kill Presidents Johnson, Nixon, and Ford.Chuck Schumer is one of the covert CIA officers in Congress. He was a KGB “asset” when he was first elected in 1980.After the KGB was exposed, Schumer and his CIA colleagues began their own quest to control the government.Leftist CIA officers enlisted Joe Biden as an “asset” and targeted him for the Presidency in 1984. They are behind the massive election fraud of 2020.Leftist CIA officers are bent on destroying America. Click the link.\n",
            "Takeover completeAmerica is deadBrought down from the inside,just as I’ve heard it would be 50yrs ago.\n",
            "As reported tonight on @RealAmericasVoice, the shocking inside look at what happened today in #gasenaterunoff ...\n",
            "Video inside Fulton County polling center - NO Republican observers, screens hidden from view\n",
            "The heart knows truth deep inside.\n",
            "*NEW VIDEO*It’s like waking up from a nightmare only to realize that you’re still trapped inside the nightmare.\n",
            "Watch @Peoples_Pundit's broadcast: Inside The Numbers: Live Coverage of the Georgia Senate Runoff Elections\n",
            "“...If, according to our whistleblower, Joseph Rosati was the one responsible for orchestrating the attack on Seth Rich, and potentially “cleaning up” the two MS-13 agents after the shakedown went south… who put him up to it?What you are about to read is parsed from several hours of leaked testimony I listened through today, via a whistleblower – testimony which is currently under seal in the District Court of Maryland.This is the court case:Lin Wood referenced on Twitter earlier:What follows is a summary of the multi-hour-long testimony of alias Ryan White, delivered and recorded over several months, wherein White claims he was arrested by the very same man who was involved in the murder of Seth Rich, and the subsequent cover-up – Joseph Rosati.White, working as a private investigator himself, had routine contact with several men working inside government agencies, including one Secret Service agent, Shaun Bridges, and another DEA agent, Carl Mark Force.\n",
            "Happening in this very second!!! Inside the crowds in DC. Look at us, look at the patriots. The atmosphere here is awesome. Im the only one to offer you these live videos on Parler so follow me for more . Big echo\n",
            "Happening in this very second!!! Inside the crowds in DC. Look at us, look at the patriots. The atmosphere here is awesome. Im the only one to offer you these live videos on Parler so follow me for more . Big echo\n",
            "Happening in this very second!!! Inside the crowds in DC. Look at us, look at the patriots. The atmosphere here is awesome. Im the only one to offer you these live videos on Parler so follow me for more . Big echo\n",
            "Happening in this very second!!! Inside the crowds in DC. Look at us, look at the patriots. The atmosphere here is awesome. Im the only one to offer you these live videos on Parler so follow me for more . Big echo\n",
            "As reported tonight on @RealAmericasVoice, the shocking inside look at what happened today in #gasenaterunoff ...\n",
            "As reported tonight on @RealAmericasVoice, the shocking inside look at what happened today in #gasenaterunoff ...\n",
            "Leftist CIA officers have been engaged in a quest to control the government since the 1950s. It was initiated by Soviet KGB officers inside the CIA. The KGB was exposed in 1984, but it was never made public.The CIA killed 16 Members of Congress with “accidents” and “suicides” in 34 years from 1957 to 1991. My book has the details.The CIA assassinated President Kennedy and tried to kill President Reagan. They also had plans to kill Presidents Johnson, Nixon, and Ford.Chuck Schumer is one of the covert CIA officers in Congress. He was a KGB “asset” when he was first elected in 1980.After the KGB was exposed, Schumer and his CIA colleagues began their own quest to control the government.Leftist CIA officers enlisted Joe Biden as an “asset” and targeted him for the Presidency in 1984. They are behind the massive election fraud of 2020.Leftist CIA officers are bent on destroying America. Click the link.\n",
            "As reported tonight on @RealAmericasVoice, the shocking inside look at what happened today in #gasenaterunoff ...\n",
            "Happening in this very second!!! Inside the crowds in DC. Look at us, look at the patriots. The atmosphere here is awesome. Im the only one to offer you these live videos on Parler so follow me for more . Big echo\n",
            "Video inside Fulton County polling center - NO Republican observers, screens hidden from view\n",
            "It is evident to me now. Trump knew about all of the inside corruption, including Pence. But the “plan” isn’t a superhero coming to save us. We must fight and save our republic. It is too large for one person to save. That isn’t realistic. Do not cower. Stand up and fight.\n",
            "FBI not commenting... I wonder why...Not another “false flag” inside job to distract and kill innocent Americans making it look like IRAN did it??This is getting to be just like the Film Angel has Fallen staring Gerard Butler and Morgan Freeman..The next one will be the PURGE...,then Hunger Games... Art imitating life?!\n",
            "Happening in this very second!!! Inside the crowds in DC. Look at us, look at the patriots. The atmosphere here is awesome. Im the only one to offer you these live videos on Parler so follow me for more . Big echo\n",
            "Nov 12 2017 14:52:34 (EST) ***** Q Q Q Q Q * Patriots don’t sleep. = /SA/global +the picture. = cannot/will not swallow. What is No Such Agency - Q group? +++Adm R+++ . war w/ Clowns In America? .. POTUS narrative? (80% covert. 20% public. ..over months? C-info leaks? Operations (think SA + ???)?CNN sale? ? large cash by Clowns In America (public)?Why???does [i]t hurt? control[s] the MSM? POTUS discredit MSM.[W]hy is this relevant?information transmitted?people inform[e]d?.. Op[e]ration Mockingbird .. Jason Bourne (CIA/Dream) repeated?social media platforms.Wizards & Warloc[k]s? What council control?Snowden (inside terms dropped).Alice & Wonderland – understood.Snow White – understood.Iron Eagle?Godfather III?Speed?Everything has meaning.Disney is a distraction.Senate & Congress = puppets (not all)(power shift).For [GOD & COUNTRY].For HUMANITY. GERONIMO.Q\n",
            "Video inside Fulton County polling center - NO Republican observers, screens hidden from view\n",
            "His platoon had just left their base in Iraq when their vehicle hit an improvised roadside bomb and erupted in flames. Only slightly injured, Cashe pulled out the driver, who was burning, and extinguished the flames. After a soldier inside pushed open the vehicle’s hatch door, Cashe rushed back and pulled six more men out, not stopping even after he caught fire. More than 70 percent of his body was covered in burns. He was hurt the most badly but insisted on being medically evacuated last.In the hospital, before he succumbed to his injuries, he told Stars and Stripes, “I had made peace with God, but I didn’t know if my men had yet.”SAUcE:\n",
            "ANTIFA and BLM Scum Pound On The Door Of Josh Hawley's Home While His Wife And Baby Cower In Fear Inside, Threaten Their Lives - Videos - VidMax.com\n",
            "As reported tonight on @RealAmericasVoice, the shocking inside look at what happened today in #gasenaterunoff ...\n",
            "should have had police and military inside vote counting rooms, the tattle tell system doesn't have merit any more\n",
            "Exclusive: Sec Mike Pompeo: China’s Communist Party Is ‘Inside the Gates’ | American Thought Leaders\n",
            "THE PEOPLE OF THE WORLD NEED TO HEAR THIS.........................the people of the world today live theirlives inside a control system, that most people never even notice it exists.It's an extremely sophisticated system and yet a very simple system,and it exist mostly simply because people believe that it is there.This unquestioning belief in the existence of authority is really a huge problem with the human psyche, and it's a very major part of the control system that is in place, but another part of it is the paper based reality that people are in slave to what I called the paper-based Matrix that people actually believe is real.Now,over the years,and most especially in recent times, there have been many, many people that have brought this information to you and have sought to explain this paper-based reality to you.Theres many people that have brought you information regarding the birth certificate, many people who have suggested that you question suggested the validity and the\n",
            "Leftist Mob Shows Up at GOP Senator's House With Wife & Newborn Inside\n",
            "As reported tonight on @RealAmericasVoice, the shocking inside look at what happened today in #gasenaterunoff ...\n",
            "As reported tonight on @RealAmericasVoice, the shocking inside look at what happened today in #gasenaterunoff ...\n",
            "Video inside Fulton County polling center - NO Republican observers, screens hidden from view\n",
            "If you start with a cage containing five monkeys, and inside the cage hang a banana on a string from the top, and then you place a set of stairs under the banana, before long a monkey will go to the stairs and climb toward the banana.As soon as he touches the stairs, you spray all the monkeys with cold water.After a while another monkey makes an attempt with same result -- all the monkeys are sprayed with cold water. Pretty soon when another monkey tries to climb the stairs, the other monkeys will try to prevent it.Now, put the cold water away.Remove one monkey from the cage and replace it with a new one. The new monkey sees the banana and attempts to climb the stairs. To his shock, all of the other monkeys beat the crap out of him.\n",
            "As reported tonight on @RealAmericasVoice, the shocking inside look at what happened today in #gasenaterunoff ...\n",
            "Great! They better be sure that all DemoKKKrats, and their House Monger Leaders are inside... Perhaps then, JFK will be dancing in his grave, instead of turning... Then we'll have PEACE & HARMONY at last!...\n",
            "As my old Irish GrandDAD used to say \"There's more nutters outside the nuthouse than inside\"GrandPARENT knew....\n",
            "Nov 12 2017 14:52:34 (EST) ***** Q Q Q Q Q * Patriots don’t sleep. = /SA/global +the picture. = cannot/will not swallow. What is No Such Agency - Q group? +++Adm R+++ . war w/ Clowns In America? .. POTUS narrative? (80% covert. 20% public. ..over months? C-info leaks? Operations (think SA + ???)?CNN sale? ? large cash by Clowns In America (public)?Why???does [i]t hurt? control[s] the MSM? POTUS discredit MSM.[W]hy is this relevant?information transmitted?people inform[e]d?.. Op[e]ration Mockingbird .. Jason Bourne (CIA/Dream) repeated?social media platforms.Wizards & Warloc[k]s? What council control?Snowden (inside terms dropped).Alice & Wonderland – understood.Snow White – understood.Iron Eagle?Godfather III?Speed?Everything has meaning.Disney is a distraction.Senate & Congress = puppets (not all)(power shift).For [GOD & COUNTRY].For HUMANITY. GERONIMO.Q\n",
            "*NEW VIDEO*It’s like waking up from a nightmare only to realize that you’re still trapped inside the nightmare.\n",
            "Our country must face truth about its so-called leaders. The good, bad & ugly truth. We must expose swamp inhabitants to disinfectant of sunshine.No more dirty little “inside Beltway” secrets. We need truth. These two men do not even tell us truth about their adopted children.\n",
            "As reported tonight on @RealAmericasVoice, the shocking inside look at what happened today in #gasenaterunoff ...\n",
            "A Bomb no one has picked up on and I think President Trump Knows, Did DOMINION take any PARTS OUT from INSIDE the machine? I bet he has Video just like at the Poll Count Center. HUGE: TRUMP DROPS A BOMB DURING PHONE CALL! Tells Raffensperger \"Vote Scammer and Hustler\" Ruby Freeman Was Behind Alleged 18,000 FRAUDULENT VOTES in Suitcase Scandal! (VIDEO)\n",
            "How did radical progressives like Ossoff and Warnock even make it this far in Georgia? They are determined to destroy America from the inside, yet they have enough support to make it close. I hate to say it, Republicans better put on their big boy pants and grow a pair before we lose our Country. God Bless America!\n",
            "As reported tonight on @RealAmericasVoice, the shocking inside look at what happened today in #gasenaterunoff ...\n",
            "*NEW VIDEO*It’s like waking up from a nightmare only to realize that you’re still trapped inside the nightmare.\n",
            "As reported tonight on @RealAmericasVoice, the shocking inside look at what happened today in #gasenaterunoff ...\n",
            "As reported tonight on @RealAmericasVoice, the shocking inside look at what happened today in #gasenaterunoff ...\n",
            "As reported tonight on @RealAmericasVoice, the shocking inside look at what happened today in #gasenaterunoff ...\n",
            "As reported tonight on @RealAmericasVoice, the shocking inside look at what happened today in #gasenaterunoff ...\n",
            "This crazy! Video tape the location all night. Guarantee people are still inside. Breaking: As GOP Pulls Ahead in Georgia Senate Races, Democrat County Stops Counting Votes for the Night\n",
            "Republican Senator Josh Hawley (R-MO) claimed late Monday night that a Antifa mob had gathered outside his home and begun attacking the property, threatening his petrified family who were inside.\n",
            "Happening in this very second!!! Inside the crowds in DC. Look at us, look at the patriots. The atmosphere here is awesome. Im the only one to offer you these live videos on Parler so follow me for more . Big echo\n",
            "Happening in this very second!!! Inside the crowds in DC. Look at us, look at the patriots. The atmosphere here is awesome. Im the only one to offer you these live videos on Parler so follow me for more . Big echo\n",
            "Exclusive: Sec Mike Pompeo: China’s Communist Party Is ‘Inside the Gates’ | American Thought Leaders\n",
            "As reported tonight on @RealAmericasVoice, the shocking inside look at what happened today in #gasenaterunoff ...\n",
            "There is a fundamental reason why our enemies dare not attack [invade] our borders [armed citizenry]. If America falls so does the world. If America falls darkness will soon follow. Only when we stand together, only when we are united, can we defeat this highly entrenched dark enemy. Their power and control relies heavily on an uneducated population.A population that trusts without individual thought.A population that obeys without challenge. A population that remains outside of free thought, and instead, remains isolated living in fear inside of the closed-loop echo chamber of the controlled mainstream media. This is not about politics.This is about preserving our way of life and protecting the generations that follow.We are living in Biblical times.Children of light vs children of darkness.United against the Invisible Enemy of all humanity.Q\n",
            "As reported tonight on @RealAmericasVoice, the shocking inside look at what happened today in #gasenaterunoff ...\n",
            "As reported tonight on @RealAmericasVoice, the shocking inside look at what happened today in #gasenaterunoff ...\n",
            "As reported tonight on @RealAmericasVoice, the shocking inside look at what happened today in #gasenaterunoff ...\n",
            "As reported tonight on @RealAmericasVoice, the shocking inside look at what happened today in #gasenaterunoff ...\n",
            "Our country must face truth about its so-called leaders. The good, bad & ugly truth. We must expose swamp inhabitants to disinfectant of sunshine.No more dirty little “inside Beltway” secrets. We need truth. These two men do not even tell us truth about their adopted children.\n",
            "As reported tonight on @RealAmericasVoice, the shocking inside look at what happened today in #gasenaterunoff ...\n",
            "As reported tonight on @RealAmericasVoice, the shocking inside look at what happened today in #gasenaterunoff ...\n",
            "*NEW VIDEO*It’s like waking up from a nightmare only to realize that you’re still trapped inside the nightmare.\n",
            "What the hell is wrong with Democratic voters? Do they not undertand or is it they just don't give a damn about what will happen if Dems control the senate. They don't get it that the Democrats could care less about their voters. Voters of both parties will suffer the consequences of the Georgia election. Buckle up bitches. You will no longer control your own life. Be prepared to do as you're told and dig deep, really deep, inside your pocketbooks. You are about to reap the seeds you sowed. No bitching and complaining allowed.\n",
            "Our country must face truth about its so-called leaders. The good, bad & ugly truth. We must expose swamp inhabitants to disinfectant of sunshine.No more dirty little “inside Beltway” secrets. We need truth. These two men do not even tell us truth about their adopted children.\n",
            "I find the utterly clueless, detached from reality mood of my leftist Boston coworkers at this moment fascinating. New England really is an echo chamber inside of a bubble.\n",
            "BLOW IT ALL UP IF WE HAVE TOO,DEMS/RINOS INSIDE\n",
            "As reported tonight on @RealAmericasVoice, the shocking inside look at what happened today in #gasenaterunoff ...\n",
            "Happening in this very second!!! Inside the crowds in DC. Look at us, look at the patriots. The atmosphere here is awesome. Im the only one to offer you these live videos on Parler so follow me for more . Big echo\n",
            "I know what Trump is up to tomorrow. He asked all patriots to show up. Guessing about 5m will do so. Yes!!!! This provided him The “cover” to bring in the national guard. You know to protect against chaos. Perfect. However - my theory is to Watch the national guard advance inside congress tomorrow and arrest the traitors before they even start voting. Fly them all of to Gitmo immediately to await trial. The constitution is clear about who gets a say. Those elected members of Congress that are actually present.\n",
            "As reported tonight on @RealAmericasVoice, the shocking inside look at what happened today in #gasenaterunoff ...\n",
            "Video inside Fulton County polling center - NO Republican observers, screens hidden from view\n",
            "As reported tonight on @RealAmericasVoice, the shocking inside look at what happened today in #gasenaterunoff ...\n",
            "Happening in this very second!!! Inside the crowds in DC. Look at us, look at the patriots. The atmosphere here is awesome. Im the only one to offer you these live videos on Parler so follow me for more . Big echo\n",
            "As reported tonight on @RealAmericasVoice, the shocking inside look at what happened today in #gasenaterunoff ...\n",
            "As reported tonight on @RealAmericasVoice, the shocking inside look at what happened today in #gasenaterunoff ...\n",
            "REAL BREAKING!!! 🔴🔴 This THREAD READER - Grab this NOW !!! before TwiTt3R removes it. Inside of the link go down to the bottom. There is a file link (starts with go file) - download that before someone messes with this server or blocks. If you don't want to download, there are 2 links to listen in the thread- It's over!!MIND BLOWING! 🔴🔴 I knew he wouldn't need to rely on the pence card!\n",
            "Video inside Fulton County polling center - NO Republican observers, screens hidden from view\n",
            "As reported tonight on @RealAmericasVoice, the shocking inside look at what happened today in #gasenaterunoff ...\n",
            "Happening in this very second!!! Inside the crowds in DC. Look at us, look at the patriots. The atmosphere here is awesome. Im the only one to offer you these live videos on Parler so follow me for more . Big echo\n",
            "As reported tonight on @RealAmericasVoice, the shocking inside look at what happened today in #gasenaterunoff ...\n",
            "As reported tonight on @RealAmericasVoice, the shocking inside look at what happened today in #gasenaterunoff ...\n",
            "Cheddar Briscuits! Yes, you read that right. Cheddar Briscuits! These things are awesome! My idea! My wife made 'em happen! I love it when a plan comes together.They are basically the same cheddar biscuits you get at Red Lobster, but with smoked brisket inside and brushed with garlic butter.\n",
            "As reported tonight on @RealAmericasVoice, the shocking inside look at what happened today in #gasenaterunoff ...\n",
            "Video inside Fulton County polling center - NO Republican observers, screens hidden from view\n",
            "Happening in this very second!!! Inside the crowds in DC. Look at us, look at the patriots. The atmosphere here is awesome. Im the only one to offer you these live videos on Parler so follow me for more . Big echo\n",
            "As my old Irish GrandDAD used to say \"There's more nutters outside the nuthouse than inside\"GrandPARENT knew....\n",
            "FQLKS.....buckle up, keep arms, legs inside thw ride at all times!! The next 48 hours gonna be DIS-IMFORMATION WARFARE!!! I suggest grab some drinks and snacks!! We are all witnessing HISTORY!!!\n",
            "As reported tonight on @RealAmericasVoice, the shocking inside look at what happened today in #gasenaterunoff ...\n",
            "Mike Coudrey on Twitter: \"DC ATTENDEES, REMEMBER: -Most streets will be CLOSED. Wear comfortable shoes. -Indoor dining is closed. Hotel room service is available. -Bring snacks, portable batteries and phone chargers. -Stay inside at night. -If we give the order, DO NOT LEAVE DC. OCCUPY! \" / Twitter\n",
            "Happening in this very second!!! Inside the crowds in DC. Look at us, look at the patriots. The atmosphere here is awesome. Im the only one to offer you these live videos on Parler so follow me for more . Big echo\n",
            "As reported tonight on @RealAmericasVoice, the shocking inside look at what happened today in #gasenaterunoff ...\n",
            "As reported tonight on @RealAmericasVoice, the shocking inside look at what happened today in #gasenaterunoff ...\n",
            "ELECTION MEDDLING - YOU Are Told What to THINK ~ Election Rigging~!Same Old Communist Tricks. • 3/16/18: EXCLUSIVE: Twitter Shadowbanning/CENSORING Conservative Thought is ‘Real and Happening Every Day’ Says Inside Sources.Report —>\n",
            "As reported tonight on @RealAmericasVoice, the shocking inside look at what happened today in #gasenaterunoff ...\n",
            "As reported tonight on @RealAmericasVoice, the shocking inside look at what happened today in #gasenaterunoff ...\n",
            "As reported tonight on @RealAmericasVoice, the shocking inside look at what happened today in #gasenaterunoff ...\n",
            "Leftist CIA officers have been engaged in a quest to control the government since the 1950s. It was initiated by Soviet KGB officers inside the CIA. The KGB was exposed in 1984, but it was never made public.The CIA killed 16 Members of Congress with “accidents” and “suicides” in 34 years from 1957 to 1991. My book has the details.The CIA assassinated President Kennedy and tried to kill President Reagan. They also had plans to kill Presidents Johnson, Nixon, and Ford.Chuck Schumer is one of the covert CIA officers in Congress. He was a KGB “asset” when he was first elected in 1980.After the KGB was exposed, Schumer and his CIA colleagues began their own quest to control the government.Leftist CIA officers enlisted Joe Biden as an “asset” and targeted him for the Presidency in 1984. They are behind the massive election fraud of 2020.Leftist CIA officers are bent on destroying America. Click the link.\n",
            "As reported tonight on @RealAmericasVoice, the shocking inside look at what happened today in #gasenaterunoff ...\n"
          ],
          "name": "stdout"
        }
      ]
    },
    {
      "cell_type": "code",
      "metadata": {
        "id": "wCc2ryaavLqQ",
        "outputId": "49e63904-0316-4ac2-bc98-89f0f961e440",
        "colab": {
          "base_uri": "https://localhost:8080/"
        }
      },
      "source": [
        "df.iloc[idx]['post_text']"
      ],
      "execution_count": 19,
      "outputs": [
        {
          "output_type": "execute_result",
          "data": {
            "text/plain": [
              "nan"
            ]
          },
          "metadata": {
            "tags": []
          },
          "execution_count": 19
        }
      ]
    },
    {
      "cell_type": "code",
      "metadata": {
        "id": "fRMNeyvjvUDN"
      },
      "source": [
        ""
      ],
      "execution_count": null,
      "outputs": []
    }
  ]
}