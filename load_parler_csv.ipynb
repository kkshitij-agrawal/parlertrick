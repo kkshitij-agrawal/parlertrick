{
  "nbformat": 4,
  "nbformat_minor": 0,
  "metadata": {
    "colab": {
      "name": "load_parler_csv.ipynb",
      "provenance": [],
      "authorship_tag": "ABX9TyNrNaZba2lu1MJgjCWhIM1z",
      "include_colab_link": true
    },
    "kernelspec": {
      "name": "python3",
      "display_name": "Python 3"
    }
  },
  "cells": [
    {
      "cell_type": "markdown",
      "metadata": {
        "id": "view-in-github",
        "colab_type": "text"
      },
      "source": [
        "<a href=\"https://colab.research.google.com/github/sbooeshaghi/parlertrick/blob/main/load_parler_csv.ipynb\" target=\"_parent\"><img src=\"https://colab.research.google.com/assets/colab-badge.svg\" alt=\"Open In Colab\"/></a>"
      ]
    },
    {
      "cell_type": "code",
      "metadata": {
        "colab": {
          "base_uri": "https://localhost:8080/"
        },
        "id": "w4cZEmNV-CBI",
        "outputId": "7ad956f3-d0ee-42bd-b396-3fbb510330c7"
      },
      "source": [
        "!git clone https://github.com/sbooeshaghi/parlertrick.git"
      ],
      "execution_count": 1,
      "outputs": [
        {
          "output_type": "stream",
          "text": [
            "Cloning into 'parlertrick'...\n",
            "remote: Enumerating objects: 10, done.\u001b[K\n",
            "remote: Counting objects: 100% (10/10), done.\u001b[K\n",
            "remote: Compressing objects: 100% (7/7), done.\u001b[K\n",
            "remote: Total 10 (delta 0), reused 7 (delta 0), pack-reused 0\u001b[K\n",
            "Unpacking objects: 100% (10/10), done.\n"
          ],
          "name": "stdout"
        }
      ]
    },
    {
      "cell_type": "code",
      "metadata": {
        "id": "7qv6cGk--LG8"
      },
      "source": [
        "!gunzip parlertrick/data/all_posts.csv.gz"
      ],
      "execution_count": 2,
      "outputs": []
    },
    {
      "cell_type": "code",
      "metadata": {
        "id": "Gh2d8qYh-I6p"
      },
      "source": [
        "import pandas as pd"
      ],
      "execution_count": 3,
      "outputs": []
    },
    {
      "cell_type": "code",
      "metadata": {
        "id": "MYtho0X--N6s"
      },
      "source": [
        "df = pd.read_csv('parlertrick/data/all_posts.csv')"
      ],
      "execution_count": 5,
      "outputs": []
    },
    {
      "cell_type": "code",
      "metadata": {
        "colab": {
          "base_uri": "https://localhost:8080/",
          "height": 407
        },
        "id": "xZYh978H-RcY",
        "outputId": "d045e8d6-b684-44be-fab0-c79e102ed6bd"
      },
      "source": [
        "df"
      ],
      "execution_count": 6,
      "outputs": [
        {
          "output_type": "execute_result",
          "data": {
            "text/html": [
              "<div>\n",
              "<style scoped>\n",
              "    .dataframe tbody tr th:only-of-type {\n",
              "        vertical-align: middle;\n",
              "    }\n",
              "\n",
              "    .dataframe tbody tr th {\n",
              "        vertical-align: top;\n",
              "    }\n",
              "\n",
              "    .dataframe thead th {\n",
              "        text-align: right;\n",
              "    }\n",
              "</style>\n",
              "<table border=\"1\" class=\"dataframe\">\n",
              "  <thead>\n",
              "    <tr style=\"text-align: right;\">\n",
              "      <th></th>\n",
              "      <th>author_name</th>\n",
              "      <th>author_username</th>\n",
              "      <th>author_profile_photo</th>\n",
              "      <th>post_text</th>\n",
              "      <th>post_image</th>\n",
              "      <th>post_timestamp</th>\n",
              "      <th>post_impressions</th>\n",
              "    </tr>\n",
              "  </thead>\n",
              "  <tbody>\n",
              "    <tr>\n",
              "      <th>0</th>\n",
              "      <td>Andy Ngo</td>\n",
              "      <td>@AndyNgo</td>\n",
              "      <td>https://images.parler.com/777e039d6a5341388549...</td>\n",
              "      <td>Philadelphia Police charged 7 in relation to a...</td>\n",
              "      <td>https://api.parler.com/l/GJCyQ</td>\n",
              "      <td>5 days ago</td>\n",
              "      <td>132117.0</td>\n",
              "    </tr>\n",
              "    <tr>\n",
              "      <th>1</th>\n",
              "      <td>Bill Kays</td>\n",
              "      <td>@rebootbill</td>\n",
              "      <td>https://images.parler.com/706f1c9d8b454b5f8108...</td>\n",
              "      <td>NaN</td>\n",
              "      <td>NaN</td>\n",
              "      <td>4 days ago</td>\n",
              "      <td>13.0</td>\n",
              "    </tr>\n",
              "    <tr>\n",
              "      <th>2</th>\n",
              "      <td>Flint Bedrock</td>\n",
              "      <td>@flintbedrock</td>\n",
              "      <td>https://images.parler.com/1f45e69f8ed145f9b7b0...</td>\n",
              "      <td>Patriots in DC are ready for tomorrow.</td>\n",
              "      <td>NaN</td>\n",
              "      <td>5 days ago</td>\n",
              "      <td>248971.0</td>\n",
              "    </tr>\n",
              "    <tr>\n",
              "      <th>3</th>\n",
              "      <td>Name Hidden</td>\n",
              "      <td>@Private User</td>\n",
              "      <td>../../company-media.parler.com/par-default-pro...</td>\n",
              "      <td>Let’s follow each other!</td>\n",
              "      <td>https://api.parler.com/l/jB7Lz</td>\n",
              "      <td>5 days ago</td>\n",
              "      <td>9829.0</td>\n",
              "    </tr>\n",
              "    <tr>\n",
              "      <th>4</th>\n",
              "      <td>Name Hidden</td>\n",
              "      <td>@Private User</td>\n",
              "      <td>../../company-media.parler.com/par-default-pro...</td>\n",
              "      <td>NaN</td>\n",
              "      <td>../../api.parler.com/l/6Ac5M.html</td>\n",
              "      <td>5 days ago</td>\n",
              "      <td>15689.0</td>\n",
              "    </tr>\n",
              "    <tr>\n",
              "      <th>...</th>\n",
              "      <td>...</td>\n",
              "      <td>...</td>\n",
              "      <td>...</td>\n",
              "      <td>...</td>\n",
              "      <td>...</td>\n",
              "      <td>...</td>\n",
              "      <td>...</td>\n",
              "    </tr>\n",
              "    <tr>\n",
              "      <th>336475</th>\n",
              "      <td>Name Hidden</td>\n",
              "      <td>@Private User</td>\n",
              "      <td>../../company-media.parler.com/par-default-pro...</td>\n",
              "      <td>She claims a #blm member hit her in the face a...</td>\n",
              "      <td>NaN</td>\n",
              "      <td>5 days ago</td>\n",
              "      <td>8694.0</td>\n",
              "    </tr>\n",
              "    <tr>\n",
              "      <th>336476</th>\n",
              "      <td>Vmilner</td>\n",
              "      <td>@Vmilner</td>\n",
              "      <td>../../images.parler.com/3f88420057b14dc3883b86...</td>\n",
              "      <td>NaN</td>\n",
              "      <td>NaN</td>\n",
              "      <td>5 days ago</td>\n",
              "      <td>44.0</td>\n",
              "    </tr>\n",
              "    <tr>\n",
              "      <th>336477</th>\n",
              "      <td>Diamond And Silk</td>\n",
              "      <td>@DiamondAndSilk</td>\n",
              "      <td>https://images.parler.com/66c3bf6a396b40509767...</td>\n",
              "      <td>BIG NEWS IN PENNSYLVANIA!</td>\n",
              "      <td>https://api.parler.com/l/USgUy</td>\n",
              "      <td>5 days ago</td>\n",
              "      <td>1468761.0</td>\n",
              "    </tr>\n",
              "    <tr>\n",
              "      <th>336478</th>\n",
              "      <td>Trump News🇺🇸</td>\n",
              "      <td>@TrumpNewsNow</td>\n",
              "      <td>../../images.parler.com/c3ba17bb35d447f79f151d...</td>\n",
              "      <td>We have had ENOUGH❗️We love our country ❤️We l...</td>\n",
              "      <td>../../api.parler.com/l/noQYu.html</td>\n",
              "      <td>5 days ago</td>\n",
              "      <td>23165.0</td>\n",
              "    </tr>\n",
              "    <tr>\n",
              "      <th>336479</th>\n",
              "      <td>Montalto Paul</td>\n",
              "      <td>@MontaltoPaul</td>\n",
              "      <td>../../images.parler.com/422607581aa4486586483c...</td>\n",
              "      <td>NaN</td>\n",
              "      <td>NaN</td>\n",
              "      <td>5 days ago</td>\n",
              "      <td>22.0</td>\n",
              "    </tr>\n",
              "  </tbody>\n",
              "</table>\n",
              "<p>336480 rows × 7 columns</p>\n",
              "</div>"
            ],
            "text/plain": [
              "             author_name  author_username  ... post_timestamp post_impressions\n",
              "0               Andy Ngo         @AndyNgo  ...     5 days ago         132117.0\n",
              "1              Bill Kays      @rebootbill  ...     4 days ago             13.0\n",
              "2          Flint Bedrock    @flintbedrock  ...     5 days ago         248971.0\n",
              "3            Name Hidden    @Private User  ...     5 days ago           9829.0\n",
              "4            Name Hidden    @Private User  ...     5 days ago          15689.0\n",
              "...                  ...              ...  ...            ...              ...\n",
              "336475       Name Hidden    @Private User  ...     5 days ago           8694.0\n",
              "336476           Vmilner         @Vmilner  ...     5 days ago             44.0\n",
              "336477  Diamond And Silk  @DiamondAndSilk  ...     5 days ago        1468761.0\n",
              "336478      Trump News🇺🇸    @TrumpNewsNow  ...     5 days ago          23165.0\n",
              "336479     Montalto Paul    @MontaltoPaul  ...     5 days ago             22.0\n",
              "\n",
              "[336480 rows x 7 columns]"
            ]
          },
          "metadata": {
            "tags": []
          },
          "execution_count": 6
        }
      ]
    },
    {
      "cell_type": "code",
      "metadata": {
        "id": "mFAfce28-XH_"
      },
      "source": [
        ""
      ],
      "execution_count": null,
      "outputs": []
    }
  ]
}