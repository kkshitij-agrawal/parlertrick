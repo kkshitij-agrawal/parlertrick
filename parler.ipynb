{
  "nbformat": 4,
  "nbformat_minor": 0,
  "metadata": {
    "colab": {
      "name": "parler.ipynb",
      "provenance": [],
      "authorship_tag": "ABX9TyOHb0gOIg0th+JZhUu9XiaA",
      "include_colab_link": true
    },
    "kernelspec": {
      "name": "python3",
      "display_name": "Python 3"
    }
  },
  "cells": [
    {
      "cell_type": "markdown",
      "metadata": {
        "id": "view-in-github",
        "colab_type": "text"
      },
      "source": [
        "<a href=\"https://colab.research.google.com/github/sbooeshaghi/parlertrick/blob/main/parler.ipynb\" target=\"_parent\"><img src=\"https://colab.research.google.com/assets/colab-badge.svg\" alt=\"Open In Colab\"/></a>"
      ]
    },
    {
      "cell_type": "code",
      "metadata": {
        "colab": {
          "base_uri": "https://localhost:8080/"
        },
        "id": "3jGGm7wCNkre",
        "outputId": "2769dd64-1562-4649-ec0f-918d600aa9aa"
      },
      "source": [
        "!wget https://parlertrick.s3-us-west-2.amazonaws.com/data_no_video.tar.gz"
      ],
      "execution_count": null,
      "outputs": [
        {
          "output_type": "stream",
          "text": [
            "--2021-01-12 01:31:13--  https://parlertrick.s3-us-west-2.amazonaws.com/data_no_video.tar.gz\n",
            "Resolving parlertrick.s3-us-west-2.amazonaws.com (parlertrick.s3-us-west-2.amazonaws.com)... 52.218.185.81\n",
            "Connecting to parlertrick.s3-us-west-2.amazonaws.com (parlertrick.s3-us-west-2.amazonaws.com)|52.218.185.81|:443... connected.\n",
            "HTTP request sent, awaiting response... 200 OK\n",
            "Length: 9925324800 (9.2G) [application/x-tar]\n",
            "Saving to: ‘data_no_video.tar.gz’\n",
            "\n",
            "data_no_video.tar.g 100%[===================>]   9.24G  18.4MB/s    in 8m 46s  \n",
            "\n",
            "2021-01-12 01:40:00 (18.0 MB/s) - ‘data_no_video.tar.gz’ saved [9925324800/9925324800]\n",
            "\n"
          ],
          "name": "stdout"
        }
      ]
    },
    {
      "cell_type": "code",
      "metadata": {
        "id": "brws2QnuQv4u"
      },
      "source": [
        "!tar -xf data_no_video.tar.gz"
      ],
      "execution_count": null,
      "outputs": []
    },
    {
      "cell_type": "code",
      "metadata": {
        "id": "YncbHc3GUVVu"
      },
      "source": [
        "import glob"
      ],
      "execution_count": 11,
      "outputs": []
    },
    {
      "cell_type": "code",
      "metadata": {
        "id": "ulCn-0MEgM5A"
      },
      "source": [
        "files = glob.glob('/content/data_no_video/parler.com/post/*.html')"
      ],
      "execution_count": 12,
      "outputs": []
    },
    {
      "cell_type": "code",
      "metadata": {
        "colab": {
          "base_uri": "https://localhost:8080/",
          "height": 35
        },
        "id": "HXpwHAd8gfPu",
        "outputId": "ca73be00-f077-4de0-d031-e34c82eacaa5"
      },
      "source": [
        "files[0]"
      ],
      "execution_count": 14,
      "outputs": [
        {
          "output_type": "execute_result",
          "data": {
            "application/vnd.google.colaboratory.intrinsic+json": {
              "type": "string"
            },
            "text/plain": [
              "'/content/data_no_video/parler.com/post/6ce9a4ea2f09461f8058f92a1dab6c54.html'"
            ]
          },
          "metadata": {
            "tags": []
          },
          "execution_count": 14
        }
      ]
    },
    {
      "cell_type": "code",
      "metadata": {
        "id": "DG0Njgbogf_r"
      },
      "source": [
        "from bs4 import BeautifulSoup\n",
        "\n",
        "with open(files[0], 'r') as html_doc:\n",
        "  soup = BeautifulSoup(html_doc, 'html.parser')"
      ],
      "execution_count": 15,
      "outputs": []
    },
    {
      "cell_type": "code",
      "metadata": {
        "id": "ZAOUyLCsgyMr"
      },
      "source": [
        "# author--name\n",
        "# author--username\n",
        "# author--profile--photo\n",
        "# post--text\n",
        "# post--image\n",
        "# post--impressions\n",
        "# post--timestampe"
      ],
      "execution_count": 17,
      "outputs": []
    },
    {
      "cell_type": "code",
      "metadata": {
        "id": "mOuwnvIwlv25"
      },
      "source": [
        "from tqdm import tqdm"
      ],
      "execution_count": 46,
      "outputs": []
    },
    {
      "cell_type": "code",
      "metadata": {
        "colab": {
          "base_uri": "https://localhost:8080/"
        },
        "id": "KcpkbtS1kISK",
        "outputId": "f5a9e3f1-1d6e-4cf0-883b-ab19cd8b6dd2"
      },
      "source": [
        "data = []\n",
        "\n",
        "for idx, file in enumerate(tqdm(files)):\n",
        "  doc_data = {}\n",
        "  with open(file, 'r') as html_doc:\n",
        "    soup = BeautifulSoup(html_doc, 'html.parser')\n",
        "    \n",
        "    try:\n",
        "      author_name = soup.find('span', {'class': 'author--name'}).text\n",
        "    except AttributeError:\n",
        "      author_name = \"\"\n",
        "    \n",
        "    try:\n",
        "      author_username = soup.find('span', {'class': 'author--username'}).text\n",
        "    except AttributeError:\n",
        "      author_username = \"\"\n",
        "\n",
        "    try: \n",
        "      author_profile_picture = soup.find('img', {'alt': 'Post Author Profile Pic'}).get('src', '')\n",
        "    except AttributeError:\n",
        "      author_profile_picture = \"\"\n",
        "    \n",
        "    try:\n",
        "      post_text = soup.find('div', {'class': 'card--body'}).find('p').text\n",
        "    except AttributeError:\n",
        "      post_text = \"\"\n",
        "\n",
        "    try:\n",
        "      post_image = soup.find('img', {'class': \"mc-image--modal--element\"}).get('src', '')\n",
        "    except AttributeError:\n",
        "      post_image = \"\"\n",
        "    \n",
        "    try:\n",
        "      post_timestamp = soup.find('span', {'class': 'post--timestamp'}).text\n",
        "    except AttributeError:\n",
        "      post_timestamp = \"\"\n",
        "\n",
        "    try:\n",
        "      post_impressions = soup.find('span', {'class': 'impressions--count'}).text\n",
        "    except AttributeError:\n",
        "      post_impressions = \"\"\n",
        "\n",
        "    data.append({\n",
        "        \"author_name\": author_name,\n",
        "        \"author_username\": author_username,\n",
        "        \"author_profile_photo\": author_profile_picture,\n",
        "        \"post_text\": post_text,\n",
        "        \"post_image\": post_image,\n",
        "        \"post_timestamp\": post_timestamp,\n",
        "        \"post_impressions\": post_impressions\n",
        "    })\n",
        "  if idx == 10_000: break"
      ],
      "execution_count": 47,
      "outputs": [
        {
          "output_type": "stream",
          "text": [
            "  3%|▎         | 9999/336480 [02:30<1:22:05, 66.28it/s]"
          ],
          "name": "stderr"
        }
      ]
    },
    {
      "cell_type": "code",
      "metadata": {
        "colab": {
          "base_uri": "https://localhost:8080/"
        },
        "id": "_-MasuljlnZ0",
        "outputId": "40dbbb87-6bc5-4db1-a7a7-ff0ccefaa088"
      },
      "source": [
        "data[0]"
      ],
      "execution_count": 48,
      "outputs": [
        {
          "output_type": "execute_result",
          "data": {
            "text/plain": [
              "{'author_name': 'Name Hidden',\n",
              " 'author_profile_photo': '../../company-media.parler.com/par-default-profile-picture.jpg.html',\n",
              " 'author_username': '@Private User',\n",
              " 'post_image': '',\n",
              " 'post_impressions': '58535',\n",
              " 'post_text': 'DC police pulls down Trump busses and inspects people like they are some criminals. Echo to raise the alarm, follow me for updates',\n",
              " 'post_timestamp': '5 days ago'}"
            ]
          },
          "metadata": {
            "tags": []
          },
          "execution_count": 48
        }
      ]
    },
    {
      "cell_type": "code",
      "metadata": {
        "colab": {
          "base_uri": "https://localhost:8080/"
        },
        "id": "L9LkseMVmbjj",
        "outputId": "9da973a6-c755-43c7-bbfb-77b618b79c74"
      },
      "source": [
        "len(data)"
      ],
      "execution_count": 49,
      "outputs": [
        {
          "output_type": "execute_result",
          "data": {
            "text/plain": [
              "10001"
            ]
          },
          "metadata": {
            "tags": []
          },
          "execution_count": 49
        }
      ]
    },
    {
      "cell_type": "code",
      "metadata": {
        "id": "4w3CGwzXmc7R"
      },
      "source": [
        "import pandas as pd"
      ],
      "execution_count": 50,
      "outputs": []
    },
    {
      "cell_type": "code",
      "metadata": {
        "id": "W06YFE-vmgWd"
      },
      "source": [
        "df = pd.DataFrame(data)"
      ],
      "execution_count": 51,
      "outputs": []
    },
    {
      "cell_type": "code",
      "metadata": {
        "colab": {
          "base_uri": "https://localhost:8080/",
          "height": 600
        },
        "id": "pfy2i8YQmjPe",
        "outputId": "b30d6c49-eac4-476b-e0c5-20db48bccb76"
      },
      "source": [
        "df.head(10)"
      ],
      "execution_count": 52,
      "outputs": [
        {
          "output_type": "execute_result",
          "data": {
            "text/html": [
              "<div>\n",
              "<style scoped>\n",
              "    .dataframe tbody tr th:only-of-type {\n",
              "        vertical-align: middle;\n",
              "    }\n",
              "\n",
              "    .dataframe tbody tr th {\n",
              "        vertical-align: top;\n",
              "    }\n",
              "\n",
              "    .dataframe thead th {\n",
              "        text-align: right;\n",
              "    }\n",
              "</style>\n",
              "<table border=\"1\" class=\"dataframe\">\n",
              "  <thead>\n",
              "    <tr style=\"text-align: right;\">\n",
              "      <th></th>\n",
              "      <th>author_name</th>\n",
              "      <th>author_username</th>\n",
              "      <th>author_profile_photo</th>\n",
              "      <th>post_text</th>\n",
              "      <th>post_image</th>\n",
              "      <th>post_timestamp</th>\n",
              "      <th>post_impressions</th>\n",
              "    </tr>\n",
              "  </thead>\n",
              "  <tbody>\n",
              "    <tr>\n",
              "      <th>0</th>\n",
              "      <td>Name Hidden</td>\n",
              "      <td>@Private User</td>\n",
              "      <td>../../company-media.parler.com/par-default-pro...</td>\n",
              "      <td>DC police pulls down Trump busses and inspects...</td>\n",
              "      <td></td>\n",
              "      <td>5 days ago</td>\n",
              "      <td>58535</td>\n",
              "    </tr>\n",
              "    <tr>\n",
              "      <th>1</th>\n",
              "      <td>Larry D Cook</td>\n",
              "      <td>@LarryDCook</td>\n",
              "      <td>../../images.parler.com/d85461c591c94c0f811aa0...</td>\n",
              "      <td>Explosive new allegations that Obama conspired...</td>\n",
              "      <td></td>\n",
              "      <td>5 days ago</td>\n",
              "      <td>9997</td>\n",
              "    </tr>\n",
              "    <tr>\n",
              "      <th>2</th>\n",
              "      <td>Italia191😎🇺🇸🇮🇹🇺🇸</td>\n",
              "      <td>@Italia191</td>\n",
              "      <td>../../images.parler.com/afae887f60e447ec9d9431...</td>\n",
              "      <td>PATRIOT🇺🇸PARTY EST. 2020——————————————⚔️ #Patr...</td>\n",
              "      <td></td>\n",
              "      <td>5 days ago</td>\n",
              "      <td>46819</td>\n",
              "    </tr>\n",
              "    <tr>\n",
              "      <th>3</th>\n",
              "      <td>Team Trump</td>\n",
              "      <td>@TeamTrump</td>\n",
              "      <td>../../images.parler.com/425a9719ae7b4d2db3ff86...</td>\n",
              "      <td>Statement from President DonaldTrump</td>\n",
              "      <td>../../api.parler.com/l/qO2e6.html</td>\n",
              "      <td>5 days ago</td>\n",
              "      <td>2476408</td>\n",
              "    </tr>\n",
              "    <tr>\n",
              "      <th>4</th>\n",
              "      <td>LouDobbs</td>\n",
              "      <td>@LouDobbsTonight</td>\n",
              "      <td>../../images.parler.com/04b76f1cdbfd40baa60fd6...</td>\n",
              "      <td>The People Will Remember: Jason Miller says th...</td>\n",
              "      <td></td>\n",
              "      <td>5 days ago</td>\n",
              "      <td>390762</td>\n",
              "    </tr>\n",
              "    <tr>\n",
              "      <th>5</th>\n",
              "      <td>liberal anime</td>\n",
              "      <td>@liberalanime</td>\n",
              "      <td>https://images.parler.com/ab67b3753f924133af1d...</td>\n",
              "      <td>#anime #animeright #animegirls #waifu #animear...</td>\n",
              "      <td>../../api.parler.com/l/j9x8s</td>\n",
              "      <td>5 days ago</td>\n",
              "      <td>1384</td>\n",
              "    </tr>\n",
              "    <tr>\n",
              "      <th>6</th>\n",
              "      <td>Torres_paul</td>\n",
              "      <td>@Torrespaul</td>\n",
              "      <td>../../images.parler.com/c58e888eec444207a7fc59...</td>\n",
              "      <td>Prepare for four years of shit. Biden/Harris w...</td>\n",
              "      <td></td>\n",
              "      <td>5 days ago</td>\n",
              "      <td>35</td>\n",
              "    </tr>\n",
              "    <tr>\n",
              "      <th>7</th>\n",
              "      <td>Mark Levin</td>\n",
              "      <td>@Marklevinshow</td>\n",
              "      <td>../../images.parler.com/9764daac5a9b4ee3862810...</td>\n",
              "      <td>WILL THE DEMOCRATS MANAGE TO INSTITUTIONALIZE ...</td>\n",
              "      <td></td>\n",
              "      <td>5 days ago</td>\n",
              "      <td>5795445</td>\n",
              "    </tr>\n",
              "    <tr>\n",
              "      <th>8</th>\n",
              "      <td>The Gateway Pundit</td>\n",
              "      <td>@GatewayPundit</td>\n",
              "      <td>../../images.parler.com/8e12fc196c8c4f289a5657...</td>\n",
              "      <td>BREAKING EXCLUSIVE: Evidence China Was Colludi...</td>\n",
              "      <td></td>\n",
              "      <td>5 days ago</td>\n",
              "      <td>343329</td>\n",
              "    </tr>\n",
              "    <tr>\n",
              "      <th>9</th>\n",
              "      <td>M✝️🇺🇸💪🙏</td>\n",
              "      <td>@MAGADALLAS</td>\n",
              "      <td>../../images.parler.com/6d7ebbe8b6344dec96f377...</td>\n",
              "      <td>JOHN CORNYN -TEXAS.... SAYS HE DOES NOT STAND ...</td>\n",
              "      <td></td>\n",
              "      <td>5 days ago</td>\n",
              "      <td>15048</td>\n",
              "    </tr>\n",
              "  </tbody>\n",
              "</table>\n",
              "</div>"
            ],
            "text/plain": [
              "          author_name   author_username  ... post_timestamp post_impressions\n",
              "0         Name Hidden     @Private User  ...     5 days ago            58535\n",
              "1        Larry D Cook       @LarryDCook  ...     5 days ago             9997\n",
              "2    Italia191😎🇺🇸🇮🇹🇺🇸        @Italia191  ...     5 days ago            46819\n",
              "3          Team Trump        @TeamTrump  ...     5 days ago          2476408\n",
              "4            LouDobbs  @LouDobbsTonight  ...     5 days ago           390762\n",
              "5       liberal anime     @liberalanime  ...     5 days ago             1384\n",
              "6         Torres_paul       @Torrespaul  ...     5 days ago               35\n",
              "7          Mark Levin    @Marklevinshow  ...     5 days ago          5795445\n",
              "8  The Gateway Pundit    @GatewayPundit  ...     5 days ago           343329\n",
              "9             M✝️🇺🇸💪🙏       @MAGADALLAS  ...     5 days ago            15048\n",
              "\n",
              "[10 rows x 7 columns]"
            ]
          },
          "metadata": {
            "tags": []
          },
          "execution_count": 52
        }
      ]
    },
    {
      "cell_type": "code",
      "metadata": {
        "colab": {
          "base_uri": "https://localhost:8080/"
        },
        "id": "2x_wwrhtmkAq",
        "outputId": "1b94b458-3af8-47f0-b33d-3b784174da6d"
      },
      "source": [
        "df['author_username'].nunique()"
      ],
      "execution_count": 53,
      "outputs": [
        {
          "output_type": "execute_result",
          "data": {
            "text/plain": [
              "2519"
            ]
          },
          "metadata": {
            "tags": []
          },
          "execution_count": 53
        }
      ]
    },
    {
      "cell_type": "code",
      "metadata": {
        "id": "m3FR0zFYmp4g"
      },
      "source": [
        "vals = df.groupby('author_username')['post_text'].apply(list).apply(lambda x: len(x)).values"
      ],
      "execution_count": 61,
      "outputs": []
    },
    {
      "cell_type": "code",
      "metadata": {
        "id": "JYjq3-qdmv44"
      },
      "source": [
        "import matplotlib.pyplot as plt"
      ],
      "execution_count": 62,
      "outputs": []
    },
    {
      "cell_type": "code",
      "metadata": {
        "colab": {
          "base_uri": "https://localhost:8080/",
          "height": 320
        },
        "id": "tsq4YzovnSc0",
        "outputId": "17c77b8b-7a02-471c-8a27-b46ffcc80bfa"
      },
      "source": [
        "fig, ax = plt.subplots(figsize=(7,5))\n",
        "\n",
        "ax.hist(vals, bins=50)\n",
        "\n",
        "fig.show()"
      ],
      "execution_count": 65,
      "outputs": [
        {
          "output_type": "display_data",
          "data": {
            "image/png": "[encoded data removed]",
            "text/plain": [
              "<Figure size 504x360 with 1 Axes>"
            ]
          },
          "metadata": {
            "tags": [],
            "needs_background": "light"
          }
        }
      ]
    },
    {
      "cell_type": "code",
      "metadata": {
        "colab": {
          "base_uri": "https://localhost:8080/"
        },
        "id": "8NaxAnnqnXRk",
        "outputId": "edb01671-359c-4cfe-c60e-3ad114664a43"
      },
      "source": [
        "df['post_text']"
      ],
      "execution_count": 67,
      "outputs": [
        {
          "output_type": "execute_result",
          "data": {
            "text/plain": [
              "0        DC police pulls down Trump busses and inspects...\n",
              "1        Explosive new allegations that Obama conspired...\n",
              "2        PATRIOT🇺🇸PARTY EST. 2020——————————————⚔️ #Patr...\n",
              "3                     Statement from President DonaldTrump\n",
              "4        The People Will Remember: Jason Miller says th...\n",
              "                               ...                        \n",
              "9996                                                      \n",
              "9997     WATCH: Rockstar Utah Patriots Also Confronted ...\n",
              "9998     Forgive me, but I can't stop myself 😂 #awoman ...\n",
              "9999                                    FOLLOW & ECHO 🇺🇸🦅👇\n",
              "10000    WATCH!!!VOTES TAKEN AWAY FROM DAVID PERDUE IN ...\n",
              "Name: post_text, Length: 10001, dtype: object"
            ]
          },
          "metadata": {
            "tags": []
          },
          "execution_count": 67
        }
      ]
    },
    {
      "cell_type": "code",
      "metadata": {
        "colab": {
          "base_uri": "https://localhost:8080/"
        },
        "id": "UI5eo6S_ner7",
        "outputId": "246bba81-05d9-45b0-c4dc-438505606c45"
      },
      "source": [
        "import nltk\n",
        "nltk.download('punkt')\n",
        "nltk.download('stopwords')"
      ],
      "execution_count": 82,
      "outputs": [
        {
          "output_type": "stream",
          "text": [
            "[nltk_data] Downloading package punkt to /root/nltk_data...\n",
            "[nltk_data]   Package punkt is already up-to-date!\n",
            "[nltk_data] Downloading package stopwords to /root/nltk_data...\n",
            "[nltk_data]   Unzipping corpora/stopwords.zip.\n"
          ],
          "name": "stdout"
        },
        {
          "output_type": "execute_result",
          "data": {
            "text/plain": [
              "True"
            ]
          },
          "metadata": {
            "tags": []
          },
          "execution_count": 82
        }
      ]
    },
    {
      "cell_type": "code",
      "metadata": {
        "id": "qFuYcp0pnnSc"
      },
      "source": [
        "posts = df['post_text'].tolist()"
      ],
      "execution_count": 89,
      "outputs": []
    },
    {
      "cell_type": "code",
      "metadata": {
        "colab": {
          "base_uri": "https://localhost:8080/"
        },
        "id": "V8uRG_VZnsGY",
        "outputId": "6f0b742f-2a6e-4021-c3dd-c46df9f2640e"
      },
      "source": [
        "%%time\n",
        "\n",
        "keep_tokens = []\n",
        "for post in posts:\n",
        "  tokens = nltk.word_tokenize(post)\n",
        "  keep = []\n",
        "  for token in tokens:\n",
        "    word = token.lower()\n",
        "    if word.isalnum() and word not in nltk.corpus.stopwords.words('english'):\n",
        "      keep.append(word)\n",
        "  keep_tokens.append(keep)"
      ],
      "execution_count": 91,
      "outputs": [
        {
          "output_type": "stream",
          "text": [
            "CPU times: user 21 s, sys: 2.2 s, total: 23.2 s\n",
            "Wall time: 23.3 s\n"
          ],
          "name": "stdout"
        }
      ]
    },
    {
      "cell_type": "code",
      "metadata": {
        "colab": {
          "base_uri": "https://localhost:8080/"
        },
        "id": "bjCV6NvYobb_",
        "outputId": "7458aa62-16aa-46cf-d6c5-4b6ab6689aab"
      },
      "source": [
        "len(keep_tokens)"
      ],
      "execution_count": 92,
      "outputs": [
        {
          "output_type": "execute_result",
          "data": {
            "text/plain": [
              "10001"
            ]
          },
          "metadata": {
            "tags": []
          },
          "execution_count": 92
        }
      ]
    },
    {
      "cell_type": "code",
      "metadata": {
        "id": "b5AzrAFko5kt"
      },
      "source": [
        "df['post_tokens'] = keep_tokens"
      ],
      "execution_count": 94,
      "outputs": []
    },
    {
      "cell_type": "code",
      "metadata": {
        "id": "LaAzU0cEo6c7"
      },
      "source": [
        "import itertools"
      ],
      "execution_count": 95,
      "outputs": []
    },
    {
      "cell_type": "code",
      "metadata": {
        "colab": {
          "base_uri": "https://localhost:8080/"
        },
        "id": "obHKMP6apHYs",
        "outputId": "e562da86-a979-4e5c-b348-c3f3e7db7924"
      },
      "source": [
        "list(itertools.chain(*[['a', 'b'],['b', 'c', 'd']]))"
      ],
      "execution_count": 97,
      "outputs": [
        {
          "output_type": "execute_result",
          "data": {
            "text/plain": [
              "['a', 'b', 'b', 'c', 'd']"
            ]
          },
          "metadata": {
            "tags": []
          },
          "execution_count": 97
        }
      ]
    },
    {
      "cell_type": "code",
      "metadata": {
        "id": "bk5oYFBJpNiy"
      },
      "source": [
        "all_tokens = list(itertools.chain(*keep_tokens))"
      ],
      "execution_count": 103,
      "outputs": []
    },
    {
      "cell_type": "code",
      "metadata": {
        "colab": {
          "base_uri": "https://localhost:8080/",
          "height": 331
        },
        "id": "Qrh6QuTBp2-1",
        "outputId": "235d4209-2f79-483e-f4b9-03998d51cb21"
      },
      "source": [
        "fd = nltk.FreqDist(all_tokens)\n",
        "fd.plot(30, cumulative=False)"
      ],
      "execution_count": 106,
      "outputs": [
        {
          "output_type": "display_data",
          "data": {
            "image/png": "[encoded data removed]",
            "text/plain": [
              "<Figure size 432x288 with 1 Axes>"
            ]
          },
          "metadata": {
            "tags": [],
            "needs_background": "light"
          }
        }
      ]
    },
    {
      "cell_type": "code",
      "metadata": {
        "id": "EXzZCxy1qBr9"
      },
      "source": [
        ""
      ],
      "execution_count": null,
      "outputs": []
    }
  ]
}